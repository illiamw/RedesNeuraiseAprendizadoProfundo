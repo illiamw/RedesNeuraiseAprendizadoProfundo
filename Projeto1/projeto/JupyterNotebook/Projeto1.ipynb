{
 "cells": [
  {
   "cell_type": "markdown",
   "metadata": {},
   "source": [
    "# Projeto 1 -  SCC0270 - Neural Networks and Deep Learning\n",
    "## Primeiro Projeto Prático"
   ]
  },
  {
   "cell_type": "markdown",
   "metadata": {},
   "source": [
    "### Nome: William Luis Alves Ferreira"
   ]
  },
  {
   "cell_type": "markdown",
   "metadata": {},
   "source": [
    "### NºUSP: 9847599"
   ]
  },
  {
   "cell_type": "markdown",
   "metadata": {},
   "source": [
    "## Instalação de pacotes pip"
   ]
  },
  {
   "cell_type": "code",
   "execution_count": 1,
   "metadata": {},
   "outputs": [
    {
     "name": "stdout",
     "output_type": "stream",
     "text": [
      "Requirement already satisfied: dill in c:\\users\\will_\\anaconda3\\lib\\site-packages (0.3.4)\n"
     ]
    }
   ],
   "source": [
    "#biblioteca para salvar a sessão do jupiter\n",
    "!pip install dill"
   ]
  },
  {
   "cell_type": "code",
   "execution_count": 2,
   "metadata": {},
   "outputs": [],
   "source": [
    "##import dill - usado durante o desenvolvimento\n",
    "\n",
    "##dill.load_session('notebook_env.db')"
   ]
  },
  {
   "cell_type": "code",
   "execution_count": 3,
   "metadata": {
    "collapsed": true
   },
   "outputs": [
    {
     "name": "stdout",
     "output_type": "stream",
     "text": [
      "Requirement already satisfied: tensorflow in c:\\users\\will_\\anaconda3\\lib\\site-packages (2.5.0)\n",
      "Requirement already satisfied: numpy~=1.19.2 in c:\\users\\will_\\anaconda3\\lib\\site-packages (from tensorflow) (1.19.2)\n",
      "Requirement already satisfied: tensorboard~=2.5 in c:\\users\\will_\\anaconda3\\lib\\site-packages (from tensorflow) (2.5.0)\n",
      "Requirement already satisfied: absl-py~=0.10 in c:\\users\\will_\\anaconda3\\lib\\site-packages (from tensorflow) (0.12.0)\n",
      "Requirement already satisfied: keras-preprocessing~=1.1.2 in c:\\users\\will_\\anaconda3\\lib\\site-packages (from tensorflow) (1.1.2)\n",
      "Requirement already satisfied: gast==0.4.0 in c:\\users\\will_\\anaconda3\\lib\\site-packages (from tensorflow) (0.4.0)\n",
      "Requirement already satisfied: termcolor~=1.1.0 in c:\\users\\will_\\anaconda3\\lib\\site-packages (from tensorflow) (1.1.0)\n",
      "Requirement already satisfied: flatbuffers~=1.12.0 in c:\\users\\will_\\anaconda3\\lib\\site-packages (from tensorflow) (1.12)\n",
      "Requirement already satisfied: typing-extensions~=3.7.4 in c:\\users\\will_\\anaconda3\\lib\\site-packages (from tensorflow) (3.7.4.3)\n",
      "Requirement already satisfied: tensorflow-estimator<2.6.0,>=2.5.0rc0 in c:\\users\\will_\\anaconda3\\lib\\site-packages (from tensorflow) (2.5.0)\n",
      "Requirement already satisfied: keras-nightly~=2.5.0.dev in c:\\users\\will_\\anaconda3\\lib\\site-packages (from tensorflow) (2.5.0.dev2021032900)\n",
      "Requirement already satisfied: google-pasta~=0.2 in c:\\users\\will_\\anaconda3\\lib\\site-packages (from tensorflow) (0.2.0)\n",
      "Requirement already satisfied: six~=1.15.0 in c:\\users\\will_\\anaconda3\\lib\\site-packages (from tensorflow) (1.15.0)\n",
      "Requirement already satisfied: wrapt~=1.12.1 in c:\\users\\will_\\anaconda3\\lib\\site-packages (from tensorflow) (1.12.1)\n",
      "Requirement already satisfied: grpcio~=1.34.0 in c:\\users\\will_\\anaconda3\\lib\\site-packages (from tensorflow) (1.34.1)\n",
      "Requirement already satisfied: wheel~=0.35 in c:\\users\\will_\\anaconda3\\lib\\site-packages (from tensorflow) (0.35.1)\n",
      "Requirement already satisfied: protobuf>=3.9.2 in c:\\users\\will_\\anaconda3\\lib\\site-packages (from tensorflow) (3.17.2)\n",
      "Requirement already satisfied: h5py~=3.1.0 in c:\\users\\will_\\anaconda3\\lib\\site-packages (from tensorflow) (3.1.0)\n",
      "Requirement already satisfied: astunparse~=1.6.3 in c:\\users\\will_\\anaconda3\\lib\\site-packages (from tensorflow) (1.6.3)\n",
      "Requirement already satisfied: opt-einsum~=3.3.0 in c:\\users\\will_\\anaconda3\\lib\\site-packages (from tensorflow) (3.3.0)\n",
      "Requirement already satisfied: werkzeug>=0.11.15 in c:\\users\\will_\\anaconda3\\lib\\site-packages (from tensorboard~=2.5->tensorflow) (1.0.1)\n",
      "Requirement already satisfied: google-auth-oauthlib<0.5,>=0.4.1 in c:\\users\\will_\\anaconda3\\lib\\site-packages (from tensorboard~=2.5->tensorflow) (0.4.4)\n",
      "Requirement already satisfied: tensorboard-plugin-wit>=1.6.0 in c:\\users\\will_\\anaconda3\\lib\\site-packages (from tensorboard~=2.5->tensorflow) (1.8.0)\n",
      "Requirement already satisfied: google-auth<2,>=1.6.3 in c:\\users\\will_\\anaconda3\\lib\\site-packages (from tensorboard~=2.5->tensorflow) (1.30.1)\n",
      "Requirement already satisfied: requests<3,>=2.21.0 in c:\\users\\will_\\anaconda3\\lib\\site-packages (from tensorboard~=2.5->tensorflow) (2.24.0)\n",
      "Requirement already satisfied: setuptools>=41.0.0 in c:\\users\\will_\\anaconda3\\lib\\site-packages (from tensorboard~=2.5->tensorflow) (50.3.1.post20201107)\n",
      "Requirement already satisfied: tensorboard-data-server<0.7.0,>=0.6.0 in c:\\users\\will_\\anaconda3\\lib\\site-packages (from tensorboard~=2.5->tensorflow) (0.6.1)\n",
      "Requirement already satisfied: markdown>=2.6.8 in c:\\users\\will_\\anaconda3\\lib\\site-packages (from tensorboard~=2.5->tensorflow) (3.3.4)\n",
      "Requirement already satisfied: requests-oauthlib>=0.7.0 in c:\\users\\will_\\anaconda3\\lib\\site-packages (from google-auth-oauthlib<0.5,>=0.4.1->tensorboard~=2.5->tensorflow) (1.3.0)\n",
      "Requirement already satisfied: cachetools<5.0,>=2.0.0 in c:\\users\\will_\\anaconda3\\lib\\site-packages (from google-auth<2,>=1.6.3->tensorboard~=2.5->tensorflow) (4.2.2)\n",
      "Requirement already satisfied: pyasn1-modules>=0.2.1 in c:\\users\\will_\\anaconda3\\lib\\site-packages (from google-auth<2,>=1.6.3->tensorboard~=2.5->tensorflow) (0.2.8)\n",
      "Requirement already satisfied: rsa<5,>=3.1.4; python_version >= \"3.6\" in c:\\users\\will_\\anaconda3\\lib\\site-packages (from google-auth<2,>=1.6.3->tensorboard~=2.5->tensorflow) (4.7.2)\n",
      "Requirement already satisfied: chardet<4,>=3.0.2 in c:\\users\\will_\\anaconda3\\lib\\site-packages (from requests<3,>=2.21.0->tensorboard~=2.5->tensorflow) (3.0.4)\n",
      "Requirement already satisfied: idna<3,>=2.5 in c:\\users\\will_\\anaconda3\\lib\\site-packages (from requests<3,>=2.21.0->tensorboard~=2.5->tensorflow) (2.10)\n",
      "Requirement already satisfied: certifi>=2017.4.17 in c:\\users\\will_\\anaconda3\\lib\\site-packages (from requests<3,>=2.21.0->tensorboard~=2.5->tensorflow) (2020.6.20)\n",
      "Requirement already satisfied: urllib3!=1.25.0,!=1.25.1,<1.26,>=1.21.1 in c:\\users\\will_\\anaconda3\\lib\\site-packages (from requests<3,>=2.21.0->tensorboard~=2.5->tensorflow) (1.25.11)\n",
      "Requirement already satisfied: oauthlib>=3.0.0 in c:\\users\\will_\\anaconda3\\lib\\site-packages (from requests-oauthlib>=0.7.0->google-auth-oauthlib<0.5,>=0.4.1->tensorboard~=2.5->tensorflow) (3.1.1)\n",
      "Requirement already satisfied: pyasn1<0.5.0,>=0.4.6 in c:\\users\\will_\\anaconda3\\lib\\site-packages (from pyasn1-modules>=0.2.1->google-auth<2,>=1.6.3->tensorboard~=2.5->tensorflow) (0.4.8)\n"
     ]
    }
   ],
   "source": [
    "!pip install tensorflow "
   ]
  },
  {
   "cell_type": "code",
   "execution_count": 4,
   "metadata": {
    "collapsed": true
   },
   "outputs": [
    {
     "name": "stdout",
     "output_type": "stream",
     "text": [
      "Requirement already satisfied: keras in c:\\users\\will_\\anaconda3\\lib\\site-packages (2.4.3)\n",
      "Requirement already satisfied: pyyaml in c:\\users\\will_\\anaconda3\\lib\\site-packages (from keras) (5.3.1)\n",
      "Requirement already satisfied: numpy>=1.9.1 in c:\\users\\will_\\anaconda3\\lib\\site-packages (from keras) (1.19.2)\n",
      "Requirement already satisfied: scipy>=0.14 in c:\\users\\will_\\anaconda3\\lib\\site-packages (from keras) (1.5.2)\n",
      "Requirement already satisfied: h5py in c:\\users\\will_\\anaconda3\\lib\\site-packages (from keras) (3.1.0)\n"
     ]
    }
   ],
   "source": [
    "!pip install keras "
   ]
  },
  {
   "cell_type": "markdown",
   "metadata": {},
   "source": [
    "## Carregamento de bibliotecas base"
   ]
  },
  {
   "cell_type": "code",
   "execution_count": 5,
   "metadata": {},
   "outputs": [],
   "source": [
    "#Manipulação de vetores e matrizes\n",
    "import numpy as np \n",
    "import pandas as pd\n",
    "#Gerencimento de plotagem\n",
    "import matplotlib.pyplot as plt\n",
    "\n",
    "#Arquitetura de modelos para as redes neurais (Keras e Tensorflow)\n",
    "from keras.datasets import mnist\n",
    "from tensorflow.keras.utils import to_categorical\n",
    "from sklearn.neural_network import MLPClassifier\n",
    "from sklearn.metrics import roc_auc_score, make_scorer, confusion_matrix, plot_confusion_matrix\n",
    "from sklearn.neighbors import KNeighborsClassifier\n",
    "from sklearn.model_selection import StratifiedKFold\n",
    "from sklearn.model_selection import GridSearchCV\n",
    "from sklearn import metrics\n",
    "from sklearn.linear_model import SGDClassifier\n",
    "from sklearn.preprocessing import StandardScaler\n",
    "from sklearn.pipeline import make_pipeline"
   ]
  },
  {
   "cell_type": "markdown",
   "metadata": {},
   "source": [
    "## Carregamento dos dados fornecidos"
   ]
  },
  {
   "cell_type": "code",
   "execution_count": 6,
   "metadata": {},
   "outputs": [],
   "source": [
    "data_train = pd.read_csv(\"./train.csv\",delimiter=',')"
   ]
  },
  {
   "cell_type": "code",
   "execution_count": 7,
   "metadata": {},
   "outputs": [
    {
     "data": {
      "text/html": [
       "<div>\n",
       "<style scoped>\n",
       "    .dataframe tbody tr th:only-of-type {\n",
       "        vertical-align: middle;\n",
       "    }\n",
       "\n",
       "    .dataframe tbody tr th {\n",
       "        vertical-align: top;\n",
       "    }\n",
       "\n",
       "    .dataframe thead th {\n",
       "        text-align: right;\n",
       "    }\n",
       "</style>\n",
       "<table border=\"1\" class=\"dataframe\">\n",
       "  <thead>\n",
       "    <tr style=\"text-align: right;\">\n",
       "      <th></th>\n",
       "      <th>V1</th>\n",
       "      <th>V2</th>\n",
       "      <th>V3</th>\n",
       "      <th>V4</th>\n",
       "      <th>V5</th>\n",
       "      <th>V6</th>\n",
       "      <th>V7</th>\n",
       "      <th>V8</th>\n",
       "      <th>V9</th>\n",
       "      <th>V10</th>\n",
       "      <th>...</th>\n",
       "      <th>V20</th>\n",
       "      <th>V21</th>\n",
       "      <th>V22</th>\n",
       "      <th>V23</th>\n",
       "      <th>V24</th>\n",
       "      <th>V25</th>\n",
       "      <th>V26</th>\n",
       "      <th>V27</th>\n",
       "      <th>V28</th>\n",
       "      <th>Class</th>\n",
       "    </tr>\n",
       "  </thead>\n",
       "  <tbody>\n",
       "    <tr>\n",
       "      <th>0</th>\n",
       "      <td>-1.359807</td>\n",
       "      <td>-0.072781</td>\n",
       "      <td>2.536347</td>\n",
       "      <td>1.378155</td>\n",
       "      <td>-0.338321</td>\n",
       "      <td>0.462388</td>\n",
       "      <td>0.239599</td>\n",
       "      <td>0.098698</td>\n",
       "      <td>0.363787</td>\n",
       "      <td>0.090794</td>\n",
       "      <td>...</td>\n",
       "      <td>0.251412</td>\n",
       "      <td>-0.018307</td>\n",
       "      <td>0.277838</td>\n",
       "      <td>-0.110474</td>\n",
       "      <td>0.066928</td>\n",
       "      <td>0.128539</td>\n",
       "      <td>-0.189115</td>\n",
       "      <td>0.133558</td>\n",
       "      <td>-0.021053</td>\n",
       "      <td>0</td>\n",
       "    </tr>\n",
       "    <tr>\n",
       "      <th>1</th>\n",
       "      <td>1.191857</td>\n",
       "      <td>0.266151</td>\n",
       "      <td>0.166480</td>\n",
       "      <td>0.448154</td>\n",
       "      <td>0.060018</td>\n",
       "      <td>-0.082361</td>\n",
       "      <td>-0.078803</td>\n",
       "      <td>0.085102</td>\n",
       "      <td>-0.255425</td>\n",
       "      <td>-0.166974</td>\n",
       "      <td>...</td>\n",
       "      <td>-0.069083</td>\n",
       "      <td>-0.225775</td>\n",
       "      <td>-0.638672</td>\n",
       "      <td>0.101288</td>\n",
       "      <td>-0.339846</td>\n",
       "      <td>0.167170</td>\n",
       "      <td>0.125895</td>\n",
       "      <td>-0.008983</td>\n",
       "      <td>0.014724</td>\n",
       "      <td>0</td>\n",
       "    </tr>\n",
       "    <tr>\n",
       "      <th>2</th>\n",
       "      <td>-1.358354</td>\n",
       "      <td>-1.340163</td>\n",
       "      <td>1.773209</td>\n",
       "      <td>0.379780</td>\n",
       "      <td>-0.503198</td>\n",
       "      <td>1.800499</td>\n",
       "      <td>0.791461</td>\n",
       "      <td>0.247676</td>\n",
       "      <td>-1.514654</td>\n",
       "      <td>0.207643</td>\n",
       "      <td>...</td>\n",
       "      <td>0.524980</td>\n",
       "      <td>0.247998</td>\n",
       "      <td>0.771679</td>\n",
       "      <td>0.909412</td>\n",
       "      <td>-0.689281</td>\n",
       "      <td>-0.327642</td>\n",
       "      <td>-0.139097</td>\n",
       "      <td>-0.055353</td>\n",
       "      <td>-0.059752</td>\n",
       "      <td>0</td>\n",
       "    </tr>\n",
       "    <tr>\n",
       "      <th>3</th>\n",
       "      <td>-0.966272</td>\n",
       "      <td>-0.185226</td>\n",
       "      <td>1.792993</td>\n",
       "      <td>-0.863291</td>\n",
       "      <td>-0.010309</td>\n",
       "      <td>1.247203</td>\n",
       "      <td>0.237609</td>\n",
       "      <td>0.377436</td>\n",
       "      <td>-1.387024</td>\n",
       "      <td>-0.054952</td>\n",
       "      <td>...</td>\n",
       "      <td>-0.208038</td>\n",
       "      <td>-0.108300</td>\n",
       "      <td>0.005274</td>\n",
       "      <td>-0.190321</td>\n",
       "      <td>-1.175575</td>\n",
       "      <td>0.647376</td>\n",
       "      <td>-0.221929</td>\n",
       "      <td>0.062723</td>\n",
       "      <td>0.061458</td>\n",
       "      <td>0</td>\n",
       "    </tr>\n",
       "    <tr>\n",
       "      <th>4</th>\n",
       "      <td>-1.158233</td>\n",
       "      <td>0.877737</td>\n",
       "      <td>1.548718</td>\n",
       "      <td>0.403034</td>\n",
       "      <td>-0.407193</td>\n",
       "      <td>0.095921</td>\n",
       "      <td>0.592941</td>\n",
       "      <td>-0.270533</td>\n",
       "      <td>0.817739</td>\n",
       "      <td>0.753074</td>\n",
       "      <td>...</td>\n",
       "      <td>0.408542</td>\n",
       "      <td>-0.009431</td>\n",
       "      <td>0.798278</td>\n",
       "      <td>-0.137458</td>\n",
       "      <td>0.141267</td>\n",
       "      <td>-0.206010</td>\n",
       "      <td>0.502292</td>\n",
       "      <td>0.219422</td>\n",
       "      <td>0.215153</td>\n",
       "      <td>0</td>\n",
       "    </tr>\n",
       "  </tbody>\n",
       "</table>\n",
       "<p>5 rows × 29 columns</p>\n",
       "</div>"
      ],
      "text/plain": [
       "         V1        V2        V3        V4        V5        V6        V7  \\\n",
       "0 -1.359807 -0.072781  2.536347  1.378155 -0.338321  0.462388  0.239599   \n",
       "1  1.191857  0.266151  0.166480  0.448154  0.060018 -0.082361 -0.078803   \n",
       "2 -1.358354 -1.340163  1.773209  0.379780 -0.503198  1.800499  0.791461   \n",
       "3 -0.966272 -0.185226  1.792993 -0.863291 -0.010309  1.247203  0.237609   \n",
       "4 -1.158233  0.877737  1.548718  0.403034 -0.407193  0.095921  0.592941   \n",
       "\n",
       "         V8        V9       V10  ...       V20       V21       V22       V23  \\\n",
       "0  0.098698  0.363787  0.090794  ...  0.251412 -0.018307  0.277838 -0.110474   \n",
       "1  0.085102 -0.255425 -0.166974  ... -0.069083 -0.225775 -0.638672  0.101288   \n",
       "2  0.247676 -1.514654  0.207643  ...  0.524980  0.247998  0.771679  0.909412   \n",
       "3  0.377436 -1.387024 -0.054952  ... -0.208038 -0.108300  0.005274 -0.190321   \n",
       "4 -0.270533  0.817739  0.753074  ...  0.408542 -0.009431  0.798278 -0.137458   \n",
       "\n",
       "        V24       V25       V26       V27       V28  Class  \n",
       "0  0.066928  0.128539 -0.189115  0.133558 -0.021053      0  \n",
       "1 -0.339846  0.167170  0.125895 -0.008983  0.014724      0  \n",
       "2 -0.689281 -0.327642 -0.139097 -0.055353 -0.059752      0  \n",
       "3 -1.175575  0.647376 -0.221929  0.062723  0.061458      0  \n",
       "4  0.141267 -0.206010  0.502292  0.219422  0.215153      0  \n",
       "\n",
       "[5 rows x 29 columns]"
      ]
     },
     "execution_count": 7,
     "metadata": {},
     "output_type": "execute_result"
    }
   ],
   "source": [
    "data_train.head()"
   ]
  },
  {
   "cell_type": "markdown",
   "metadata": {},
   "source": [
    "# Questão 1\n"
   ]
  },
  {
   "cell_type": "markdown",
   "metadata": {},
   "source": [
    "Definições para questão 1"
   ]
  },
  {
   "cell_type": "markdown",
   "metadata": {},
   "source": [
    "### Definição de acuracia"
   ]
  },
  {
   "cell_type": "markdown",
   "metadata": {},
   "source": [
    "Temos como acuracia a taxa de acertos da predição por toda a amostra, ou seja, consideramos alto o indice quando acertos (verdadeiros positivos e verdadeiros negativos) são a maioria da ocorrencia da predição das classes."
   ]
  },
  {
   "cell_type": "markdown",
   "metadata": {},
   "source": [
    "$$\n",
    "Acuracia = \\frac{VP+VN}{VP+VN+FP+FN}\n",
    "$$"
   ]
  },
  {
   "cell_type": "markdown",
   "metadata": {},
   "source": [
    "### Definindo AUC\n",
    "\n",
    "ROC - *receiver operating characteristic curve*, traduzido como **curva característica de operação do receptor**\n",
    "\n",
    "AUC - *Area Under the ROC Curve* , traduzido como **Área Sob a Curva ROC**\n",
    "\n",
    "No qual plotamos uma cruva (ROC) de **taxa de verdadeiro positivo** (TVP, sigla em inglês, TPR) vs. **taxa de falso positivo** (TFP, sigla em inglês, FPR) e pode ser calculada como "
   ]
  },
  {
   "cell_type": "markdown",
   "metadata": {},
   "source": [
    "$$\n",
    "\\text{Sensibilidade (Recall)} = TVP = \\frac{VP}{P} = \\frac{VP}{VP+FN}\n",
    "\\\\\n",
    "\\\\\n",
    "$$\n"
   ]
  },
  {
   "cell_type": "markdown",
   "metadata": {},
   "source": [
    "$$\n",
    "\\text{Erro} = TFP = \\frac{FP}{N} = \\frac{FP}{FP+VN}\n",
    "$$"
   ]
  },
  {
   "cell_type": "markdown",
   "metadata": {},
   "source": [
    "A AUC é invariante em estala, pois não trata dos valores absolutos predicionados, ao inves disso, trata da relação de acertos e erros, além dos verdadeiros e falsos possitivos. Uma interpletação possível é tendo o beneficio do modelo como **TVP** e maleficio como **TFP**, o ponto ideal seria na relação de maior o TVP e menor o TFP, ou seja, com a relação mais próxima do ideal temos a área sob a curva próxima a 1 caso contrário próximo a 0."
   ]
  },
  {
   "cell_type": "markdown",
   "metadata": {},
   "source": [
    "### a) Baseado na base de dados fornecida, qual das duas métricas de avaliação deve ser usada para medir os resultados dos modelos: Acurácia ou AUC?"
   ]
  },
  {
   "cell_type": "markdown",
   "metadata": {},
   "source": [
    "### b) Na base fornecida, qual seria o resultado esperado de um modelo aleatório para cada uma das duas métricas (Acurácia e AUC)?"
   ]
  },
  {
   "cell_type": "markdown",
   "metadata": {},
   "source": [
    "Primeiro realizaremos um estudo sobre os dados e averiguar sua distribuição e tendências, afim de identificar desvios que possam influenciar as métricas de avaliação do modelo."
   ]
  },
  {
   "cell_type": "markdown",
   "metadata": {},
   "source": [
    "Verificando os dados de teste"
   ]
  },
  {
   "cell_type": "code",
   "execution_count": 8,
   "metadata": {},
   "outputs": [
    {
     "name": "stderr",
     "output_type": "stream",
     "text": [
      "<ipython-input-8-a8564a62bd7f>:4: SettingWithCopyWarning: \n",
      "A value is trying to be set on a copy of a slice from a DataFrame\n",
      "\n",
      "See the caveats in the documentation: https://pandas.pydata.org/pandas-docs/stable/user_guide/indexing.html#returning-a-view-versus-a-copy\n",
      "  classes[classes==0]=\"não-fraudutento\"\n"
     ]
    }
   ],
   "source": [
    "# classes substituindo valores para facilitar plot\n",
    "classes = data_train['Class']\n",
    "\n",
    "classes[classes==0]=\"não-fraudutento\"\n",
    "classes[classes==1]=\"fraudutento\""
   ]
  },
  {
   "cell_type": "code",
   "execution_count": 9,
   "metadata": {},
   "outputs": [
    {
     "data": {
      "image/png": "[encoded data removed]",
      "text/plain": [
       "<Figure size 432x288 with 1 Axes>"
      ]
     },
     "metadata": {
      "needs_background": "light"
     },
     "output_type": "display_data"
    }
   ],
   "source": [
    "plt.hist(classes, density=1)\n",
    "plt.ylabel('Porcentagem')\n",
    "plt.xlabel('Data');"
   ]
  },
  {
   "cell_type": "code",
   "execution_count": 10,
   "metadata": {},
   "outputs": [
    {
     "data": {
      "text/plain": [
       "count              142404\n",
       "unique                  2\n",
       "top       não-fraudutento\n",
       "freq               142135\n",
       "Name: Class, dtype: object"
      ]
     },
     "execution_count": 10,
     "metadata": {},
     "output_type": "execute_result"
    }
   ],
   "source": [
    "#quantidade de transações não fraudulentas\n",
    "total = data_train['Class'].describe()[0]\n",
    "q_nf = data_train['Class'].describe()[3]\n",
    "#quantidade de transações fraudulentas\n",
    "q_f = data_train['Class'].describe()[0] - data_train['Class'].describe()[3]\n",
    "\n",
    "data_train['Class'].describe()"
   ]
  },
  {
   "cell_type": "code",
   "execution_count": 11,
   "metadata": {},
   "outputs": [
    {
     "name": "stdout",
     "output_type": "stream",
     "text": [
      "Porcentagem das classes no dataset de treino\n",
      "Não Fraudulenta  99.81110081177495\n",
      "Fraudulenta  0.18889918822504986\n"
     ]
    }
   ],
   "source": [
    "print(\"Porcentagem das classes no dataset de treino\")\n",
    "print(\"Não Fraudulenta \", (q_nf/total)*100)\n",
    "print(\"Fraudulenta \", (q_f/total)*100)"
   ]
  },
  {
   "cell_type": "markdown",
   "metadata": {},
   "source": [
    "No cenário de flaudes temos um desbalanceamento entre as classes alvo (**não-fraudulentas** e **fraudulenta**), pois esperace que a classe majoritaria em transações seja **não-fraudulenta**, logo para esse cenário existe o risco de inviezar nosso modelo para ignorar as fraudes, tonando-se, assim, otimista em relação a análise de um verdadeiro positivo (transação que realmente é não fraudulenta), o que não atende a necessidade desse tipo de problema, já que o foca é encontrar falsos positivos, ou seja, transações tidas como não-fraudulentas que na realidade são fraudulentas. Como exemplo dado em aula, se um modelo é desenvolvido para classificar transações **não-fraudulentas** e **fraudulenta** e espera-se que 95% das transações seja não-fraudulenta, nossa acurácia poderia chegar em 95%, porem não atenderia a necessidade de conferi a classe **não-fraudulenta** com precisão, logo precisamos verificar tanto a taxa de verdadeiro positivo e falso positivo, assim contemplando o objetivo de indentificar fraudes."
   ]
  },
  {
   "cell_type": "markdown",
   "metadata": {},
   "source": [
    "Portanto, como não podemos balancear a base de testes, precisamos adequar a métrica de avaliação do modelo para expressar tanto a taxa de verdadeiro positivo e verdadeiro negativo, neste sentido podemos utilizar a **AUC** para avaliarmos de forma precisa o problema."
   ]
  },
  {
   "cell_type": "markdown",
   "metadata": {},
   "source": [
    "A comparação entre as métricas de avaliação do modelo será comparada na questão 2."
   ]
  },
  {
   "cell_type": "markdown",
   "metadata": {},
   "source": [
    "## Questão 2\n"
   ]
  },
  {
   "cell_type": "markdown",
   "metadata": {},
   "source": [
    "Nesta questão temos o interesse de investigar os impactos de valores do parâmetro de regularização L2"
   ]
  },
  {
   "cell_type": "markdown",
   "metadata": {},
   "source": [
    "Com as variações de L2: \n",
    "\n",
    "**[0.0, 0.01, 0.1, 1, 10]** "
   ]
  },
  {
   "cell_type": "code",
   "execution_count": 12,
   "metadata": {},
   "outputs": [],
   "source": [
    "data_train = pd.read_csv(\"./train.csv\",delimiter=',')\n",
    "data_test = pd.read_csv(\"./test.csv\",delimiter=',')"
   ]
  },
  {
   "cell_type": "code",
   "execution_count": 13,
   "metadata": {},
   "outputs": [],
   "source": [
    "target_test = data_test.drop('Class', axis=1)\n",
    "label_test = data_test['Class']"
   ]
  },
  {
   "cell_type": "code",
   "execution_count": 14,
   "metadata": {},
   "outputs": [],
   "source": [
    "target_train = data_train.drop('Class', axis=1)\n",
    "label_train = data_train['Class']"
   ]
  },
  {
   "cell_type": "code",
   "execution_count": 15,
   "metadata": {},
   "outputs": [
    {
     "data": {
      "text/plain": [
       "((142403,), (142404,))"
      ]
     },
     "execution_count": 15,
     "metadata": {},
     "output_type": "execute_result"
    }
   ],
   "source": [
    "label_test.shape, label_train.shape"
   ]
  },
  {
   "cell_type": "markdown",
   "metadata": {},
   "source": [
    "Para o _label_ de teste entrar no modelo, temos que reformular a classe única para duas classes binárias, através de To_categorical()"
   ]
  },
  {
   "cell_type": "code",
   "execution_count": 16,
   "metadata": {},
   "outputs": [],
   "source": [
    "label_train = to_categorical(label_train, 2)\n",
    "label_test  = to_categorical(label_test, 2)"
   ]
  },
  {
   "cell_type": "code",
   "execution_count": 17,
   "metadata": {},
   "outputs": [
    {
     "data": {
      "text/plain": [
       "array([[1., 0.],\n",
       "       [0., 1.],\n",
       "       [1., 0.],\n",
       "       ...,\n",
       "       [1., 0.],\n",
       "       [1., 0.],\n",
       "       [1., 0.]], dtype=float32)"
      ]
     },
     "execution_count": 17,
     "metadata": {},
     "output_type": "execute_result"
    }
   ],
   "source": [
    "label_test"
   ]
  },
  {
   "cell_type": "markdown",
   "metadata": {},
   "source": [
    "Prosseguindo, vamos gerar 5 modelos de MLP para explorar as variações do regularizador do modelo."
   ]
  },
  {
   "cell_type": "code",
   "execution_count": 18,
   "metadata": {},
   "outputs": [],
   "source": [
    "alphas = [0,0.01,0.1,1,10]"
   ]
  },
  {
   "cell_type": "code",
   "execution_count": 19,
   "metadata": {},
   "outputs": [],
   "source": [
    "models = []\n",
    "\n",
    "for a in alphas:\n",
    "    model = None\n",
    "    model = MLPClassifier(\n",
    "        hidden_layer_sizes=[20,20,20,20,20],\n",
    "        activation='relu',\n",
    "        alpha=a,\n",
    "        verbose=True,\n",
    "        random_state=42\n",
    "    )\n",
    "    models.append(model)\n",
    "\n"
   ]
  },
  {
   "cell_type": "code",
   "execution_count": 20,
   "metadata": {},
   "outputs": [
    {
     "name": "stdout",
     "output_type": "stream",
     "text": [
      "Iteration 1, loss = 0.05098981\n",
      "Iteration 2, loss = 0.00726708\n",
      "Iteration 3, loss = 0.00625263\n",
      "Iteration 4, loss = 0.00580034\n",
      "Iteration 5, loss = 0.00559496\n",
      "Iteration 6, loss = 0.00524275\n",
      "Iteration 7, loss = 0.00513167\n",
      "Iteration 8, loss = 0.00485983\n",
      "Iteration 9, loss = 0.00460323\n",
      "Iteration 10, loss = 0.00433603\n",
      "Iteration 11, loss = 0.00409610\n",
      "Iteration 12, loss = 0.00387561\n",
      "Iteration 13, loss = 0.00386089\n",
      "Iteration 14, loss = 0.00372313\n",
      "Iteration 15, loss = 0.00350672\n",
      "Iteration 16, loss = 0.00340289\n",
      "Iteration 17, loss = 0.00299392\n",
      "Iteration 18, loss = 0.00303150\n",
      "Iteration 19, loss = 0.00258821\n",
      "Iteration 20, loss = 0.00266742\n",
      "Iteration 21, loss = 0.00238575\n",
      "Iteration 22, loss = 0.00224090\n",
      "Iteration 23, loss = 0.00217907\n",
      "Iteration 24, loss = 0.00220393\n",
      "Iteration 25, loss = 0.00183952\n",
      "Iteration 26, loss = 0.00230514\n",
      "Iteration 27, loss = 0.00178823\n",
      "Iteration 28, loss = 0.00172187\n",
      "Iteration 29, loss = 0.00174346\n",
      "Iteration 30, loss = 0.00217058\n",
      "Iteration 31, loss = 0.00146312\n",
      "Iteration 32, loss = 0.00170251\n",
      "Iteration 33, loss = 0.00152290\n",
      "Iteration 34, loss = 0.00144002\n",
      "Iteration 35, loss = 0.00185137\n",
      "Iteration 36, loss = 0.00157969\n",
      "Iteration 37, loss = 0.00108498\n",
      "Iteration 38, loss = 0.00102935\n",
      "Iteration 39, loss = 0.00174458\n",
      "Iteration 40, loss = 0.00137486\n",
      "Iteration 41, loss = 0.00124973\n",
      "Iteration 42, loss = 0.00172182\n",
      "Iteration 43, loss = 0.00116523\n",
      "Iteration 44, loss = 0.00090539\n",
      "Iteration 45, loss = 0.00108303\n",
      "Iteration 46, loss = 0.00135567\n",
      "Iteration 47, loss = 0.00156727\n",
      "Iteration 48, loss = 0.00104132\n",
      "Iteration 49, loss = 0.00139281\n",
      "Iteration 50, loss = 0.00114219\n",
      "Iteration 51, loss = 0.00127947\n",
      "Iteration 52, loss = 0.00112558\n",
      "Iteration 53, loss = 0.00078043\n",
      "Iteration 54, loss = 0.00123868\n",
      "Iteration 55, loss = 0.00143210\n",
      "Iteration 56, loss = 0.00107008\n",
      "Iteration 57, loss = 0.00107089\n",
      "Iteration 58, loss = 0.00117605\n",
      "Iteration 59, loss = 0.00112727\n",
      "Iteration 60, loss = 0.00158332\n",
      "Iteration 61, loss = 0.00089402\n",
      "Iteration 62, loss = 0.00117706\n",
      "Iteration 63, loss = 0.00107567\n",
      "Iteration 64, loss = 0.00085242\n",
      "Training loss did not improve more than tol=0.000100 for 10 consecutive epochs. Stopping.\n",
      "Iteration 1, loss = 0.05368474\n",
      "Iteration 2, loss = 0.00962957\n",
      "Iteration 3, loss = 0.00837031\n",
      "Iteration 4, loss = 0.00787357\n",
      "Iteration 5, loss = 0.00771939\n",
      "Iteration 6, loss = 0.00720157\n",
      "Iteration 7, loss = 0.00704446\n",
      "Iteration 8, loss = 0.00687156\n",
      "Iteration 9, loss = 0.00653448\n",
      "Iteration 10, loss = 0.00635301\n",
      "Iteration 11, loss = 0.00606490\n",
      "Iteration 12, loss = 0.00590443\n",
      "Iteration 13, loss = 0.00591814\n",
      "Iteration 14, loss = 0.00551979\n",
      "Iteration 15, loss = 0.00521262\n",
      "Iteration 16, loss = 0.00505437\n",
      "Iteration 17, loss = 0.00509194\n",
      "Iteration 18, loss = 0.00483424\n",
      "Iteration 19, loss = 0.00469154\n",
      "Iteration 20, loss = 0.00456899\n",
      "Iteration 21, loss = 0.00458543\n",
      "Iteration 22, loss = 0.00441143\n",
      "Iteration 23, loss = 0.00455372\n",
      "Iteration 24, loss = 0.00409410\n",
      "Iteration 25, loss = 0.00411306\n",
      "Iteration 26, loss = 0.00415345\n",
      "Iteration 27, loss = 0.00391191\n",
      "Iteration 28, loss = 0.00377469\n",
      "Iteration 29, loss = 0.00372032\n",
      "Iteration 30, loss = 0.00385205\n",
      "Iteration 31, loss = 0.00358689\n",
      "Iteration 32, loss = 0.00378175\n",
      "Iteration 33, loss = 0.00373157\n",
      "Iteration 34, loss = 0.00360197\n",
      "Iteration 35, loss = 0.00342782\n",
      "Iteration 36, loss = 0.00359006\n",
      "Iteration 37, loss = 0.00350089\n",
      "Iteration 38, loss = 0.00319633\n",
      "Iteration 39, loss = 0.00345955\n",
      "Iteration 40, loss = 0.00329605\n",
      "Iteration 41, loss = 0.00351742\n",
      "Iteration 42, loss = 0.00336182\n",
      "Iteration 43, loss = 0.00354150\n",
      "Iteration 44, loss = 0.00310821\n",
      "Iteration 45, loss = 0.00311326\n",
      "Iteration 46, loss = 0.00311167\n",
      "Iteration 47, loss = 0.00358984\n",
      "Iteration 48, loss = 0.00310046\n",
      "Iteration 49, loss = 0.00309244\n",
      "Training loss did not improve more than tol=0.000100 for 10 consecutive epochs. Stopping.\n",
      "Iteration 1, loss = 0.07175741\n",
      "Iteration 2, loss = 0.02181647\n",
      "Iteration 3, loss = 0.01742997\n",
      "Iteration 4, loss = 0.01472752\n",
      "Iteration 5, loss = 0.01294797\n",
      "Iteration 6, loss = 0.01174918\n",
      "Iteration 7, loss = 0.01090487\n",
      "Iteration 8, loss = 0.01033701\n",
      "Iteration 9, loss = 0.00989839\n",
      "Iteration 10, loss = 0.00967297\n",
      "Iteration 11, loss = 0.00954805\n",
      "Iteration 12, loss = 0.00928951\n",
      "Iteration 13, loss = 0.00926113\n",
      "Iteration 14, loss = 0.00911468\n",
      "Iteration 15, loss = 0.00897643\n",
      "Iteration 16, loss = 0.00943517\n",
      "Iteration 17, loss = 0.00894621\n",
      "Iteration 18, loss = 0.00881787\n",
      "Iteration 19, loss = 0.00873238\n",
      "Iteration 20, loss = 0.00875949\n",
      "Iteration 21, loss = 0.00913365\n",
      "Iteration 22, loss = 0.00856615\n",
      "Iteration 23, loss = 0.00867148\n",
      "Iteration 24, loss = 0.00867824\n",
      "Iteration 25, loss = 0.00874949\n",
      "Iteration 26, loss = 0.00860991\n",
      "Iteration 27, loss = 0.00855899\n",
      "Iteration 28, loss = 0.00865250\n",
      "Iteration 29, loss = 0.00887949\n",
      "Iteration 30, loss = 0.00850338\n",
      "Iteration 31, loss = 0.00852907\n",
      "Iteration 32, loss = 0.00858531\n",
      "Iteration 33, loss = 0.00847939\n",
      "Training loss did not improve more than tol=0.000100 for 10 consecutive epochs. Stopping.\n",
      "Iteration 1, loss = 0.17609361\n",
      "Iteration 2, loss = 0.05012918\n",
      "Iteration 3, loss = 0.03423220\n",
      "Iteration 4, loss = 0.02900046\n",
      "Iteration 5, loss = 0.02683703\n",
      "Iteration 6, loss = 0.02587126\n",
      "Iteration 7, loss = 0.02523526\n",
      "Iteration 8, loss = 0.02474530\n",
      "Iteration 9, loss = 0.02442389\n",
      "Iteration 10, loss = 0.02422349\n",
      "Iteration 11, loss = 0.02404667\n",
      "Iteration 12, loss = 0.02389181\n",
      "Iteration 13, loss = 0.02390476\n",
      "Iteration 14, loss = 0.02366333\n",
      "Iteration 15, loss = 0.02358305\n",
      "Iteration 16, loss = 0.02356889\n",
      "Iteration 17, loss = 0.02342915\n",
      "Iteration 18, loss = 0.02343057\n",
      "Iteration 19, loss = 0.02336002\n",
      "Iteration 20, loss = 0.02345807\n",
      "Iteration 21, loss = 0.02334573\n",
      "Iteration 22, loss = 0.02316438\n",
      "Iteration 23, loss = 0.02324655\n",
      "Iteration 24, loss = 0.02333537\n",
      "Iteration 25, loss = 0.02322182\n",
      "Iteration 26, loss = 0.02333139\n",
      "Iteration 27, loss = 0.02325391\n",
      "Iteration 28, loss = 0.02320188\n",
      "Iteration 29, loss = 0.02317681\n",
      "Iteration 30, loss = 0.02312993\n",
      "Iteration 31, loss = 0.02315287\n",
      "Iteration 32, loss = 0.02313983\n",
      "Iteration 33, loss = 0.02316673\n",
      "Training loss did not improve more than tol=0.000100 for 10 consecutive epochs. Stopping.\n",
      "Iteration 1, loss = 0.70804443\n",
      "Iteration 2, loss = 0.11202495\n",
      "Iteration 3, loss = 0.07739595\n",
      "Iteration 4, loss = 0.06217097\n",
      "Iteration 5, loss = 0.05279288\n",
      "Iteration 6, loss = 0.04663346\n",
      "Iteration 7, loss = 0.04233045\n",
      "Iteration 8, loss = 0.03922874\n",
      "Iteration 9, loss = 0.03685338\n",
      "Iteration 10, loss = 0.03498751\n",
      "Iteration 11, loss = 0.03356467\n",
      "Iteration 12, loss = 0.03240673\n",
      "Iteration 13, loss = 0.03211387\n",
      "Iteration 14, loss = 0.03128592\n",
      "Iteration 15, loss = 0.03081701\n",
      "Iteration 16, loss = 0.03042365\n",
      "Iteration 17, loss = 0.02999086\n",
      "Iteration 18, loss = 0.02968581\n",
      "Iteration 19, loss = 0.02934846\n",
      "Iteration 20, loss = 0.02910970\n",
      "Iteration 21, loss = 0.02891299\n",
      "Iteration 22, loss = 0.02870723\n",
      "Iteration 23, loss = 0.02856999\n",
      "Iteration 24, loss = 0.02850467\n",
      "Iteration 25, loss = 0.02837049\n",
      "Iteration 26, loss = 0.02826985\n",
      "Iteration 27, loss = 0.02823315\n",
      "Iteration 28, loss = 0.02811998\n",
      "Iteration 29, loss = 0.02812161\n",
      "Iteration 30, loss = 0.02805130\n",
      "Iteration 31, loss = 0.02795310\n",
      "Iteration 32, loss = 0.02792416\n",
      "Iteration 33, loss = 0.02792740\n",
      "Iteration 34, loss = 0.02792442\n",
      "Iteration 35, loss = 0.02790172\n",
      "Iteration 36, loss = 0.02784005\n",
      "Iteration 37, loss = 0.02782989\n",
      "Iteration 38, loss = 0.02783167\n",
      "Iteration 39, loss = 0.02779624\n",
      "Training loss did not improve more than tol=0.000100 for 10 consecutive epochs. Stopping.\n"
     ]
    }
   ],
   "source": [
    "for a in range(len(alphas)):\n",
    "    models[a].fit(target_train, label_train)\n"
   ]
  },
  {
   "cell_type": "markdown",
   "metadata": {},
   "source": [
    "Como discutido na questão 1 vemos a avaliação dos modelos em ambas as métricas"
   ]
  },
  {
   "cell_type": "markdown",
   "metadata": {},
   "source": [
    "Acurácia"
   ]
  },
  {
   "cell_type": "code",
   "execution_count": 21,
   "metadata": {},
   "outputs": [],
   "source": [
    "scores = []\n",
    "\n",
    "for a in range(len(alphas)):\n",
    "    scores.append(models[a].score(target_test, label_test))\n"
   ]
  },
  {
   "cell_type": "code",
   "execution_count": 22,
   "metadata": {},
   "outputs": [
    {
     "data": {
      "text/plain": [
       "[0.9952248197018321,\n",
       " 0.9978441465418566,\n",
       " 0.998939629080848,\n",
       " 0.9993469238709859,\n",
       " 0.9984340217551596]"
      ]
     },
     "execution_count": 22,
     "metadata": {},
     "output_type": "execute_result"
    }
   ],
   "source": [
    "scores"
   ]
  },
  {
   "cell_type": "markdown",
   "metadata": {},
   "source": [
    "E, verificamos que a taxa da métrica de acurácia retrata aproximadamente a **taxa de não-fraude**, pois não consegue retratar o carater de excessão dos dados desbalanciados entre as classes fruto da natureza do problema"
   ]
  },
  {
   "cell_type": "code",
   "execution_count": 23,
   "metadata": {},
   "outputs": [],
   "source": [
    "scores = []\n",
    "\n",
    "for a in range(len(alphas)):\n",
    "    scores.append(roc_auc_score(label_test, models[a].predict(target_test)))\n"
   ]
  },
  {
   "cell_type": "markdown",
   "metadata": {},
   "source": [
    "AUC"
   ]
  },
  {
   "cell_type": "code",
   "execution_count": 24,
   "metadata": {},
   "outputs": [
    {
     "data": {
      "text/plain": [
       "[0.8610712231132518,\n",
       " 0.8724392183974461,\n",
       " 0.9009690078956315,\n",
       " 0.7981957280198724,\n",
       " 0.5]"
      ]
     },
     "execution_count": 24,
     "metadata": {},
     "output_type": "execute_result"
    }
   ],
   "source": [
    "scores"
   ]
  },
  {
   "cell_type": "markdown",
   "metadata": {
    "scrolled": true
   },
   "source": [
    "Verificamos que o terceiro modelo correspondente ao regulador L2 = 0.1, e esta relacionado ao termo $\\alpha$ relacionado a taxa de aprendizado exposto pelas expressões:"
   ]
  },
  {
   "cell_type": "markdown",
   "metadata": {},
   "source": [
    "$$\n",
    "w = w -\\alpha \\frac{\\partial E}{\\partial w}\n",
    "$$\n",
    "\n",
    "$$\n",
    "b = b -\\alpha \\frac{\\partial E}{\\partial b}\n",
    "$$"
   ]
  },
  {
   "cell_type": "markdown",
   "metadata": {},
   "source": [
    "Resumidamente, temos que a derida do erro em função dos parâmetros nos oferece a **Direção** (tangente) da função, ou seja,  indica se devemos diminuir ou aumentar o valor do parâmetro com forme a inclinação da reta tangente. Já o parâmetro $\\alpha$ com o passo das atualização dos parâmetros _bias_ e _weight_, indica o quanto deste valor deve ser ajustado, desta forma, devemos atentar-se para não iginorar o ponto de minimo numa função de erro, como ilustra a figura a direita. "
   ]
  },
  {
   "cell_type": "markdown",
   "metadata": {},
   "source": [
    "![fishy](./explorandotaxaprendizado.png)\n",
    "Fonte: Material de aula do docente Tiago Santana de Nazaré"
   ]
  },
  {
   "cell_type": "markdown",
   "metadata": {},
   "source": [
    "Portanto, para nosso modelo o regulador L2 -- $\\alpha$ escolhido é 0.1"
   ]
  },
  {
   "cell_type": "markdown",
   "metadata": {},
   "source": [
    "## Questão 3"
   ]
  },
  {
   "cell_type": "markdown",
   "metadata": {},
   "source": [
    "Nesta questão vamos realizar a análise dos hiperparâmetros e arquitetura dos modelos _Multilayer Perceptron_ (MLP) e  \n",
    "_K-Nearest Keighboors_ (KNN) em termos dos parametros, respectivamente, __hidden_layer_sizes__ e __n_neighbors__.\n",
    "\n",
    "Para desenvolver a avaliação do modelo será desenvolvido um script para avaliação dos K-Folds, ou seja, avaliar as três variações de cada modelo com a base de treino dividindo-a em 3 partes, e em seguida utiliza-se a classe __GridSearchCV__ que automatiza o processo do script desenvolvido."
   ]
  },
  {
   "cell_type": "code",
   "execution_count": 25,
   "metadata": {},
   "outputs": [],
   "source": [
    "data_train = pd.read_csv(\"./train.csv\",delimiter=',')\n",
    "data_test = pd.read_csv(\"./test.csv\",delimiter=',')"
   ]
  },
  {
   "cell_type": "code",
   "execution_count": 26,
   "metadata": {},
   "outputs": [],
   "source": [
    "target_test = data_test.drop('Class', axis=1)\n",
    "label_test = data_test['Class']"
   ]
  },
  {
   "cell_type": "code",
   "execution_count": 27,
   "metadata": {},
   "outputs": [],
   "source": [
    "target_train = data_train.drop('Class', axis=1)\n",
    "label_train = data_train['Class']"
   ]
  },
  {
   "cell_type": "markdown",
   "metadata": {},
   "source": [
    "Para facilitar a distinção declaro cada modelo de forma explicita a seguir"
   ]
  },
  {
   "cell_type": "code",
   "execution_count": 28,
   "metadata": {},
   "outputs": [],
   "source": [
    "redes = []\n",
    "\n",
    "model = MLPClassifier(\n",
    "    hidden_layer_sizes=(),\n",
    "    verbose=True\n",
    ")\n",
    "redes.append(model)\n",
    "model = MLPClassifier(\n",
    "    hidden_layer_sizes=[10],\n",
    "    verbose=True\n",
    ")\n",
    "redes.append(model)\n",
    "model = MLPClassifier(\n",
    "    hidden_layer_sizes=[5,5],\n",
    "    verbose=True\n",
    ")\n",
    "redes.append(model)"
   ]
  },
  {
   "cell_type": "code",
   "execution_count": 29,
   "metadata": {},
   "outputs": [],
   "source": [
    "knns = []\n",
    "knn = KNeighborsClassifier(n_neighbors=3)\n",
    "knns.append(knn)\n",
    "knn = KNeighborsClassifier(n_neighbors=5)\n",
    "knns.append(knn)\n",
    "knn = KNeighborsClassifier(n_neighbors=7)\n",
    "knns.append(knn)\n"
   ]
  },
  {
   "cell_type": "markdown",
   "metadata": {},
   "source": [
    "### Preparando o k-fold, onde k=3"
   ]
  },
  {
   "cell_type": "code",
   "execution_count": 30,
   "metadata": {},
   "outputs": [],
   "source": [
    "kf = StratifiedKFold(n_splits=3)"
   ]
  },
  {
   "cell_type": "code",
   "execution_count": 31,
   "metadata": {},
   "outputs": [
    {
     "data": {
      "text/plain": [
       "3"
      ]
     },
     "execution_count": 31,
     "metadata": {},
     "output_type": "execute_result"
    }
   ],
   "source": [
    "kf.get_n_splits(data_train)"
   ]
  },
  {
   "cell_type": "code",
   "execution_count": 32,
   "metadata": {},
   "outputs": [
    {
     "name": "stdout",
     "output_type": "stream",
     "text": [
      "TRAIN: (94936,) TEST: (47468,)\n",
      "TRAIN: (94936,) TEST: (47468,)\n",
      "TRAIN: (94936,) TEST: (47468,)\n"
     ]
    }
   ],
   "source": [
    "#   kfold_indices[grupo][train|test], train = 0 , test = 1\n",
    "\n",
    "kfold_indices = []\n",
    "for train_index, test_index in kf.split(data_train,label_train):\n",
    "    print(\"TRAIN:\", train_index.shape, \"TEST:\", test_index.shape)\n",
    "    kfold_indices.append([train_index,test_index])\n",
    "   "
   ]
  },
  {
   "cell_type": "markdown",
   "metadata": {},
   "source": [
    "Como resultado, temos um array composto por 3 grupos e composto por _fetures_ e _labes_ da base de teste e traino, como ilustrado:\n",
    "\n",
    "**data_kfold[grupo][train_target|train_label|test_target|test_label]**"
   ]
  },
  {
   "cell_type": "code",
   "execution_count": 33,
   "metadata": {},
   "outputs": [],
   "source": [
    "#  data_kfold[grupo][train_target|train_label|test_target|test_label]\n",
    "#  train_target = 0, train_label = 1 , test_target= 2, test_label=3\n",
    "data_kfold = []\n",
    "\n",
    "for i in range(len(kfold_indices)):         #groups\n",
    "        data_kfold.append([target_train.iloc[kfold_indices[i][0]],\n",
    "                     label_train.iloc[kfold_indices[i][0]],\n",
    "                     target_train.iloc[kfold_indices[i][1]],\n",
    "                     label_train.iloc[kfold_indices[i][1]]])"
   ]
  },
  {
   "cell_type": "code",
   "execution_count": 34,
   "metadata": {},
   "outputs": [
    {
     "data": {
      "text/plain": [
       "[[              V1        V2        V3        V4        V5        V6        V7  \\\n",
       "  27362   1.081234  0.416414  0.862919  2.520863 -0.005021  0.563341 -0.123372   \n",
       "  27627   0.333499  1.699873 -2.596561  3.643945 -0.585068 -0.654659 -2.275789   \n",
       "  27738  -2.439237  2.591458 -2.840126  1.286244 -1.777016 -1.436139 -2.206056   \n",
       "  27749  -0.860827  3.131790 -5.052968  5.420941 -2.494141 -1.811287 -5.479117   \n",
       "  29687  -2.019001  1.491270  0.005222  0.817253  0.973252 -0.639268 -0.974073   \n",
       "  ...          ...       ...       ...       ...       ...       ...       ...   \n",
       "  142399  0.984968  0.128543  0.184937  1.111150 -0.219888 -0.848688  0.516601   \n",
       "  142400 -2.220505  1.004012  1.817520  0.468496 -1.543388  0.783308 -1.443050   \n",
       "  142401 -2.280315  2.241435 -0.082290 -0.417547 -0.700328 -0.393024 -0.347291   \n",
       "  142402 -0.879062  0.476433  2.418721 -1.032235 -0.008689 -1.090413  0.919090   \n",
       "  142403  1.125592 -0.147999  1.151008  1.158851 -0.823914  0.298829 -0.708732   \n",
       "  \n",
       "                V8        V9       V10  ...       V19       V20       V21  \\\n",
       "  27362   0.223122 -0.673598  0.644550  ... -0.655270 -0.165249 -0.159387   \n",
       "  27627   0.675229 -2.042416 -2.834871  ... -0.124138  0.329342  0.469212   \n",
       "  27738  -2.282725 -0.292885 -3.717450  ...  0.177746  0.513530  1.774460   \n",
       "  27749   1.189472 -3.908206 -7.060746  ...  0.432054  1.085760  1.192694   \n",
       "  29687  -3.146929 -0.003159 -0.121653  ...  0.386761 -1.029965  2.839596   \n",
       "  ...          ...       ...       ...  ...       ...       ...       ...   \n",
       "  142399 -0.198159 -0.553829  0.096242  ...  0.081514  0.103577 -0.253419   \n",
       "  142400  1.759537  0.113066 -1.297413  ...  0.367352 -0.407173  0.326262   \n",
       "  142401  1.247646 -0.136156  0.643005  ...  0.433290  0.348312 -0.276048   \n",
       "  142402 -0.466605  0.554397 -0.356330  ... -1.979680 -0.267422 -0.067034   \n",
       "  142403  0.294683  0.750838 -0.015336  ...  0.204922 -0.145904 -0.037453   \n",
       "  \n",
       "               V22       V23       V24       V25       V26       V27       V28  \n",
       "  27362  -0.305154  0.053620  0.011761  0.375146 -0.106299  0.021008  0.010559  \n",
       "  27627  -0.144363 -0.317981 -0.769644  0.807855  0.228164  0.551002  0.305473  \n",
       "  27738  -0.771390  0.065727  0.103916 -0.057578  0.242652 -0.268649 -0.743713  \n",
       "  27749   0.090356 -0.341881 -0.215924  1.053032  0.271139  1.373300  0.691195  \n",
       "  29687  -1.185443 -0.142812 -0.086103 -0.329113  0.523601  0.626283  0.152440  \n",
       "  ...          ...       ...       ...       ...       ...       ...       ...  \n",
       "  142399 -1.015941  0.056629  0.487439  0.322926 -0.784093 -0.017026  0.035475  \n",
       "  142400  0.815443 -0.316988  0.325663  0.346348  0.596696 -0.532298 -0.181901  \n",
       "  142401 -0.745789  0.016664 -0.401850  0.096932  0.093746  0.150113 -0.074114  \n",
       "  142402 -0.057123  0.021552  0.671743 -0.419799 -0.230648 -0.534309 -0.311789  \n",
       "  142403  0.024388 -0.052720 -0.003615  0.405682 -0.404597  0.063357  0.024091  \n",
       "  \n",
       "  [94936 rows x 28 columns],\n",
       "  27362     1\n",
       "  27627     1\n",
       "  27738     1\n",
       "  27749     1\n",
       "  29687     1\n",
       "           ..\n",
       "  142399    0\n",
       "  142400    0\n",
       "  142401    0\n",
       "  142402    0\n",
       "  142403    0\n",
       "  Name: Class, Length: 94936, dtype: int64,\n",
       "               V1        V2        V3        V4        V5        V6        V7  \\\n",
       "  0     -1.359807 -0.072781  2.536347  1.378155 -0.338321  0.462388  0.239599   \n",
       "  1      1.191857  0.266151  0.166480  0.448154  0.060018 -0.082361 -0.078803   \n",
       "  2     -1.358354 -1.340163  1.773209  0.379780 -0.503198  1.800499  0.791461   \n",
       "  3     -0.966272 -0.185226  1.792993 -0.863291 -0.010309  1.247203  0.237609   \n",
       "  4     -1.158233  0.877737  1.548718  0.403034 -0.407193  0.095921  0.592941   \n",
       "  ...         ...       ...       ...       ...       ...       ...       ...   \n",
       "  47520 -1.034269  0.164947  1.670485 -2.696365  0.097983  1.195234  0.397885   \n",
       "  47521 -2.781619 -1.607090  1.619197 -1.025616 -1.743614  0.748482  0.293248   \n",
       "  47522 -1.321612 -0.820842  2.043604 -2.272753 -1.366689 -0.818962 -1.215176   \n",
       "  47523  1.129693  0.443562  1.200257  2.589620 -0.657982 -0.484599 -0.208207   \n",
       "  47524 -1.654764 -5.233322 -1.486031  0.575173 -2.214253  0.204944  1.282250   \n",
       "  \n",
       "               V8        V9       V10  ...       V19       V20       V21  \\\n",
       "  0      0.098698  0.363787  0.090794  ...  0.403993  0.251412 -0.018307   \n",
       "  1      0.085102 -0.255425 -0.166974  ... -0.145783 -0.069083 -0.225775   \n",
       "  2      0.247676 -1.514654  0.207643  ... -2.261857  0.524980  0.247998   \n",
       "  3      0.377436 -1.387024 -0.054952  ... -1.232622 -0.208038 -0.108300   \n",
       "  4     -0.270533  0.817739  0.753074  ...  0.803487  0.408542 -0.009431   \n",
       "  ...         ...       ...       ...  ...       ...       ...       ...   \n",
       "  47520  0.413865  0.848333 -1.686889  ... -0.110104  0.401582  0.315819   \n",
       "  47521  0.278430 -0.208909 -0.211605  ... -0.436303 -0.423170 -0.100244   \n",
       "  47522  0.610919 -2.510455  0.619583  ... -0.732801 -0.259743  0.204542   \n",
       "  47523 -0.033528 -0.487858  0.667544  ... -1.345184 -0.131622  0.166729   \n",
       "  47524 -0.316785 -1.233701 -0.430137  ... -0.249190  3.235901  1.059495   \n",
       "  \n",
       "              V22       V23       V24       V25       V26       V27       V28  \n",
       "  0      0.277838 -0.110474  0.066928  0.128539 -0.189115  0.133558 -0.021053  \n",
       "  1     -0.638672  0.101288 -0.339846  0.167170  0.125895 -0.008983  0.014724  \n",
       "  2      0.771679  0.909412 -0.689281 -0.327642 -0.139097 -0.055353 -0.059752  \n",
       "  3      0.005274 -0.190321 -1.175575  0.647376 -0.221929  0.062723  0.061458  \n",
       "  4      0.798278 -0.137458  0.141267 -0.206010  0.502292  0.219422  0.215153  \n",
       "  ...         ...       ...       ...       ...       ...       ...       ...  \n",
       "  47520  0.956612 -0.376265 -1.661347  0.816155 -0.546689  0.336914  0.121611  \n",
       "  47521  0.338042 -0.848762  0.209540  0.085898 -0.314154  0.391626 -0.741500  \n",
       "  47522  0.483196 -0.225708  0.506655  0.317407 -0.157411 -0.054958 -0.098318  \n",
       "  47523  0.460369 -0.023367  0.726494  0.393240  0.075721  0.012750  0.034389  \n",
       "  47524 -0.486205 -1.339542  0.021077 -0.287252 -0.434628 -0.244911  0.299692  \n",
       "  \n",
       "  [47468 rows x 28 columns],\n",
       "  0        0\n",
       "  1        0\n",
       "  2        0\n",
       "  3        0\n",
       "  4        0\n",
       "          ..\n",
       "  47520    0\n",
       "  47521    0\n",
       "  47522    0\n",
       "  47523    0\n",
       "  47524    0\n",
       "  Name: Class, Length: 47468, dtype: int64],\n",
       " [              V1        V2        V3        V4        V5        V6        V7  \\\n",
       "  0      -1.359807 -0.072781  2.536347  1.378155 -0.338321  0.462388  0.239599   \n",
       "  1       1.191857  0.266151  0.166480  0.448154  0.060018 -0.082361 -0.078803   \n",
       "  2      -1.358354 -1.340163  1.773209  0.379780 -0.503198  1.800499  0.791461   \n",
       "  3      -0.966272 -0.185226  1.792993 -0.863291 -0.010309  1.247203  0.237609   \n",
       "  4      -1.158233  0.877737  1.548718  0.403034 -0.407193  0.095921  0.592941   \n",
       "  ...          ...       ...       ...       ...       ...       ...       ...   \n",
       "  142399  0.984968  0.128543  0.184937  1.111150 -0.219888 -0.848688  0.516601   \n",
       "  142400 -2.220505  1.004012  1.817520  0.468496 -1.543388  0.783308 -1.443050   \n",
       "  142401 -2.280315  2.241435 -0.082290 -0.417547 -0.700328 -0.393024 -0.347291   \n",
       "  142402 -0.879062  0.476433  2.418721 -1.032235 -0.008689 -1.090413  0.919090   \n",
       "  142403  1.125592 -0.147999  1.151008  1.158851 -0.823914  0.298829 -0.708732   \n",
       "  \n",
       "                V8        V9       V10  ...       V19       V20       V21  \\\n",
       "  0       0.098698  0.363787  0.090794  ...  0.403993  0.251412 -0.018307   \n",
       "  1       0.085102 -0.255425 -0.166974  ... -0.145783 -0.069083 -0.225775   \n",
       "  2       0.247676 -1.514654  0.207643  ... -2.261857  0.524980  0.247998   \n",
       "  3       0.377436 -1.387024 -0.054952  ... -1.232622 -0.208038 -0.108300   \n",
       "  4      -0.270533  0.817739  0.753074  ...  0.803487  0.408542 -0.009431   \n",
       "  ...          ...       ...       ...  ...       ...       ...       ...   \n",
       "  142399 -0.198159 -0.553829  0.096242  ...  0.081514  0.103577 -0.253419   \n",
       "  142400  1.759537  0.113066 -1.297413  ...  0.367352 -0.407173  0.326262   \n",
       "  142401  1.247646 -0.136156  0.643005  ...  0.433290  0.348312 -0.276048   \n",
       "  142402 -0.466605  0.554397 -0.356330  ... -1.979680 -0.267422 -0.067034   \n",
       "  142403  0.294683  0.750838 -0.015336  ...  0.204922 -0.145904 -0.037453   \n",
       "  \n",
       "               V22       V23       V24       V25       V26       V27       V28  \n",
       "  0       0.277838 -0.110474  0.066928  0.128539 -0.189115  0.133558 -0.021053  \n",
       "  1      -0.638672  0.101288 -0.339846  0.167170  0.125895 -0.008983  0.014724  \n",
       "  2       0.771679  0.909412 -0.689281 -0.327642 -0.139097 -0.055353 -0.059752  \n",
       "  3       0.005274 -0.190321 -1.175575  0.647376 -0.221929  0.062723  0.061458  \n",
       "  4       0.798278 -0.137458  0.141267 -0.206010  0.502292  0.219422  0.215153  \n",
       "  ...          ...       ...       ...       ...       ...       ...       ...  \n",
       "  142399 -1.015941  0.056629  0.487439  0.322926 -0.784093 -0.017026  0.035475  \n",
       "  142400  0.815443 -0.316988  0.325663  0.346348  0.596696 -0.532298 -0.181901  \n",
       "  142401 -0.745789  0.016664 -0.401850  0.096932  0.093746  0.150113 -0.074114  \n",
       "  142402 -0.057123  0.021552  0.671743 -0.419799 -0.230648 -0.534309 -0.311789  \n",
       "  142403  0.024388 -0.052720 -0.003615  0.405682 -0.404597  0.063357  0.024091  \n",
       "  \n",
       "  [94936 rows x 28 columns],\n",
       "  0         0\n",
       "  1         0\n",
       "  2         0\n",
       "  3         0\n",
       "  4         0\n",
       "           ..\n",
       "  142399    0\n",
       "  142400    0\n",
       "  142401    0\n",
       "  142402    0\n",
       "  142403    0\n",
       "  Name: Class, Length: 94936, dtype: int64,\n",
       "               V1        V2        V3        V4        V5        V6        V7  \\\n",
       "  27362  1.081234  0.416414  0.862919  2.520863 -0.005021  0.563341 -0.123372   \n",
       "  27627  0.333499  1.699873 -2.596561  3.643945 -0.585068 -0.654659 -2.275789   \n",
       "  27738 -2.439237  2.591458 -2.840126  1.286244 -1.777016 -1.436139 -2.206056   \n",
       "  27749 -0.860827  3.131790 -5.052968  5.420941 -2.494141 -1.811287 -5.479117   \n",
       "  29687 -2.019001  1.491270  0.005222  0.817253  0.973252 -0.639268 -0.974073   \n",
       "  ...         ...       ...       ...       ...       ...       ...       ...   \n",
       "  94969  1.220952  0.296030  0.187924  0.503387 -0.128325 -0.548591  0.013126   \n",
       "  94970  1.281252  0.262294  0.033901  0.937528  0.023258 -0.438202  0.103067   \n",
       "  94971  1.217473  0.322943  0.429341  0.778545 -0.556147 -1.261499  0.091207   \n",
       "  94972 -1.148639  0.061234  2.171869  0.023992  1.333467 -0.488300  1.300439   \n",
       "  94973 -1.011659  0.899504  2.370182  2.741081 -0.583394  1.406968 -0.590306   \n",
       "  \n",
       "               V8        V9       V10  ...       V19       V20       V21  \\\n",
       "  27362  0.223122 -0.673598  0.644550  ... -0.655270 -0.165249 -0.159387   \n",
       "  27627  0.675229 -2.042416 -2.834871  ... -0.124138  0.329342  0.469212   \n",
       "  27738 -2.282725 -0.292885 -3.717450  ...  0.177746  0.513530  1.774460   \n",
       "  27749  1.189472 -3.908206 -7.060746  ...  0.432054  1.085760  1.192694   \n",
       "  29687 -3.146929 -0.003159 -0.121653  ...  0.386761 -1.029965  2.839596   \n",
       "  ...         ...       ...       ...  ...       ...       ...       ...   \n",
       "  94969 -0.059149 -0.262493 -0.128171  ...  0.209708 -0.018298 -0.248211   \n",
       "  94970 -0.139418  0.149399  0.015408  ... -0.105866 -0.115170  0.017821   \n",
       "  94971 -0.215668  0.038951 -0.281169  ... -0.322480 -0.087316 -0.263508   \n",
       "  94972 -0.977592  0.857743  0.367301  ... -0.349956 -0.175762 -0.416624   \n",
       "  94973  0.953665 -0.422066  0.015578  ...  0.452343 -0.139206 -0.010114   \n",
       "  \n",
       "              V22       V23       V24       V25       V26       V27       V28  \n",
       "  27362 -0.305154  0.053620  0.011761  0.375146 -0.106299  0.021008  0.010559  \n",
       "  27627 -0.144363 -0.317981 -0.769644  0.807855  0.228164  0.551002  0.305473  \n",
       "  27738 -0.771390  0.065727  0.103916 -0.057578  0.242652 -0.268649 -0.743713  \n",
       "  27749  0.090356 -0.341881 -0.215924  1.053032  0.271139  1.373300  0.691195  \n",
       "  29687 -1.185443 -0.142812 -0.086103 -0.329113  0.523601  0.626283  0.152440  \n",
       "  ...         ...       ...       ...       ...       ...       ...       ...  \n",
       "  94969 -0.751498  0.064596 -0.026232  0.239495  0.095181 -0.026416  0.019548  \n",
       "  94970  0.080666 -0.219547 -0.457271  0.779557 -0.244200  0.015346  0.014157  \n",
       "  94971 -0.790306  0.164808  0.666536  0.162977  0.074000 -0.025469  0.035123  \n",
       "  94972 -0.377266 -0.558190 -0.128882  0.185737 -0.755997 -0.917725 -0.681851  \n",
       "  94973  0.243627  0.079766  0.261817 -0.652883 -0.086314 -0.012593  0.101832  \n",
       "  \n",
       "  [47468 rows x 28 columns],\n",
       "  27362    1\n",
       "  27627    1\n",
       "  27738    1\n",
       "  27749    1\n",
       "  29687    1\n",
       "          ..\n",
       "  94969    0\n",
       "  94970    0\n",
       "  94971    0\n",
       "  94972    0\n",
       "  94973    0\n",
       "  Name: Class, Length: 47468, dtype: int64],\n",
       " [             V1        V2        V3        V4        V5        V6        V7  \\\n",
       "  0     -1.359807 -0.072781  2.536347  1.378155 -0.338321  0.462388  0.239599   \n",
       "  1      1.191857  0.266151  0.166480  0.448154  0.060018 -0.082361 -0.078803   \n",
       "  2     -1.358354 -1.340163  1.773209  0.379780 -0.503198  1.800499  0.791461   \n",
       "  3     -0.966272 -0.185226  1.792993 -0.863291 -0.010309  1.247203  0.237609   \n",
       "  4     -1.158233  0.877737  1.548718  0.403034 -0.407193  0.095921  0.592941   \n",
       "  ...         ...       ...       ...       ...       ...       ...       ...   \n",
       "  94969  1.220952  0.296030  0.187924  0.503387 -0.128325 -0.548591  0.013126   \n",
       "  94970  1.281252  0.262294  0.033901  0.937528  0.023258 -0.438202  0.103067   \n",
       "  94971  1.217473  0.322943  0.429341  0.778545 -0.556147 -1.261499  0.091207   \n",
       "  94972 -1.148639  0.061234  2.171869  0.023992  1.333467 -0.488300  1.300439   \n",
       "  94973 -1.011659  0.899504  2.370182  2.741081 -0.583394  1.406968 -0.590306   \n",
       "  \n",
       "               V8        V9       V10  ...       V19       V20       V21  \\\n",
       "  0      0.098698  0.363787  0.090794  ...  0.403993  0.251412 -0.018307   \n",
       "  1      0.085102 -0.255425 -0.166974  ... -0.145783 -0.069083 -0.225775   \n",
       "  2      0.247676 -1.514654  0.207643  ... -2.261857  0.524980  0.247998   \n",
       "  3      0.377436 -1.387024 -0.054952  ... -1.232622 -0.208038 -0.108300   \n",
       "  4     -0.270533  0.817739  0.753074  ...  0.803487  0.408542 -0.009431   \n",
       "  ...         ...       ...       ...  ...       ...       ...       ...   \n",
       "  94969 -0.059149 -0.262493 -0.128171  ...  0.209708 -0.018298 -0.248211   \n",
       "  94970 -0.139418  0.149399  0.015408  ... -0.105866 -0.115170  0.017821   \n",
       "  94971 -0.215668  0.038951 -0.281169  ... -0.322480 -0.087316 -0.263508   \n",
       "  94972 -0.977592  0.857743  0.367301  ... -0.349956 -0.175762 -0.416624   \n",
       "  94973  0.953665 -0.422066  0.015578  ...  0.452343 -0.139206 -0.010114   \n",
       "  \n",
       "              V22       V23       V24       V25       V26       V27       V28  \n",
       "  0      0.277838 -0.110474  0.066928  0.128539 -0.189115  0.133558 -0.021053  \n",
       "  1     -0.638672  0.101288 -0.339846  0.167170  0.125895 -0.008983  0.014724  \n",
       "  2      0.771679  0.909412 -0.689281 -0.327642 -0.139097 -0.055353 -0.059752  \n",
       "  3      0.005274 -0.190321 -1.175575  0.647376 -0.221929  0.062723  0.061458  \n",
       "  4      0.798278 -0.137458  0.141267 -0.206010  0.502292  0.219422  0.215153  \n",
       "  ...         ...       ...       ...       ...       ...       ...       ...  \n",
       "  94969 -0.751498  0.064596 -0.026232  0.239495  0.095181 -0.026416  0.019548  \n",
       "  94970  0.080666 -0.219547 -0.457271  0.779557 -0.244200  0.015346  0.014157  \n",
       "  94971 -0.790306  0.164808  0.666536  0.162977  0.074000 -0.025469  0.035123  \n",
       "  94972 -0.377266 -0.558190 -0.128882  0.185737 -0.755997 -0.917725 -0.681851  \n",
       "  94973  0.243627  0.079766  0.261817 -0.652883 -0.086314 -0.012593  0.101832  \n",
       "  \n",
       "  [94936 rows x 28 columns],\n",
       "  0        0\n",
       "  1        0\n",
       "  2        0\n",
       "  3        0\n",
       "  4        0\n",
       "          ..\n",
       "  94969    0\n",
       "  94970    0\n",
       "  94971    0\n",
       "  94972    0\n",
       "  94973    0\n",
       "  Name: Class, Length: 94936, dtype: int64,\n",
       "                V1        V2        V3        V4        V5        V6        V7  \\\n",
       "  73857  -6.159607  1.468713 -6.850888  5.174706 -2.986704 -1.795054 -6.545072   \n",
       "  74496  -7.347955  2.397041 -7.572356  5.177819 -2.854838 -1.795239 -8.783235   \n",
       "  74507  -7.427924  2.948209 -8.678550  5.185303 -4.761090 -0.957095 -7.773380   \n",
       "  74794  -6.003422 -3.930731 -0.007045  1.714669  3.414667 -2.329583 -1.901512   \n",
       "  75511  -1.229669  1.956099 -0.851198  2.796987 -1.913977 -0.044934 -1.340739   \n",
       "  ...          ...       ...       ...       ...       ...       ...       ...   \n",
       "  142399  0.984968  0.128543  0.184937  1.111150 -0.219888 -0.848688  0.516601   \n",
       "  142400 -2.220505  1.004012  1.817520  0.468496 -1.543388  0.783308 -1.443050   \n",
       "  142401 -2.280315  2.241435 -0.082290 -0.417547 -0.700328 -0.393024 -0.347291   \n",
       "  142402 -0.879062  0.476433  2.418721 -1.032235 -0.008689 -1.090413  0.919090   \n",
       "  142403  1.125592 -0.147999  1.151008  1.158851 -0.823914  0.298829 -0.708732   \n",
       "  \n",
       "                V8        V9       V10  ...       V19       V20       V21  \\\n",
       "  73857   2.621236 -3.605870 -8.122161  ...  2.643984 -0.289830  1.061314   \n",
       "  74496   0.437157 -3.740598 -8.332863  ...  2.465195  0.073164 -0.175273   \n",
       "  74507   0.717309 -3.682359 -8.403150  ...  2.352030 -0.123085 -0.299847   \n",
       "  74794  -2.746111  0.887673 -0.049233  ... -1.231386 -4.128186  1.101671   \n",
       "  75511  -0.555548 -1.184468 -3.245109  ...  0.930239  0.270459  1.208054   \n",
       "  ...          ...       ...       ...  ...       ...       ...       ...   \n",
       "  142399 -0.198159 -0.553829  0.096242  ...  0.081514  0.103577 -0.253419   \n",
       "  142400  1.759537  0.113066 -1.297413  ...  0.367352 -0.407173  0.326262   \n",
       "  142401  1.247646 -0.136156  0.643005  ...  0.433290  0.348312 -0.276048   \n",
       "  142402 -0.466605  0.554397 -0.356330  ... -1.979680 -0.267422 -0.067034   \n",
       "  142403  0.294683  0.750838 -0.015336  ...  0.204922 -0.145904 -0.037453   \n",
       "  \n",
       "               V22       V23       V24       V25       V26       V27       V28  \n",
       "  73857   0.125737  0.589592 -0.568731  0.582825 -0.042583  0.951130  0.158996  \n",
       "  74496   0.543325 -0.547955 -0.503722 -0.310933 -0.163986  1.197895  0.378187  \n",
       "  74507   0.610479  0.789023 -0.564512  0.201196 -0.111225  1.144599  0.102280  \n",
       "  74794  -0.992494 -0.698259  0.139898 -0.205151 -0.472412  1.775378 -0.104285  \n",
       "  75511   0.277612  0.019266  0.508529 -0.201183 -0.249600  0.562239  0.075309  \n",
       "  ...          ...       ...       ...       ...       ...       ...       ...  \n",
       "  142399 -1.015941  0.056629  0.487439  0.322926 -0.784093 -0.017026  0.035475  \n",
       "  142400  0.815443 -0.316988  0.325663  0.346348  0.596696 -0.532298 -0.181901  \n",
       "  142401 -0.745789  0.016664 -0.401850  0.096932  0.093746  0.150113 -0.074114  \n",
       "  142402 -0.057123  0.021552  0.671743 -0.419799 -0.230648 -0.534309 -0.311789  \n",
       "  142403  0.024388 -0.052720 -0.003615  0.405682 -0.404597  0.063357  0.024091  \n",
       "  \n",
       "  [47468 rows x 28 columns],\n",
       "  73857     1\n",
       "  74496     1\n",
       "  74507     1\n",
       "  74794     1\n",
       "  75511     1\n",
       "           ..\n",
       "  142399    0\n",
       "  142400    0\n",
       "  142401    0\n",
       "  142402    0\n",
       "  142403    0\n",
       "  Name: Class, Length: 47468, dtype: int64]]"
      ]
     },
     "execution_count": 34,
     "metadata": {},
     "output_type": "execute_result"
    }
   ],
   "source": [
    "data_kfold"
   ]
  },
  {
   "cell_type": "markdown",
   "metadata": {},
   "source": [
    "## Comparando hiperparâmetros"
   ]
  },
  {
   "cell_type": "markdown",
   "metadata": {},
   "source": [
    "Com o treinamento de cada modelo (3) com cada um dos k-fold (3), resultando 9 variações dos modelos, e tirado média aritimética entre os 3 _scores_ de cada variação de parâmetro dos modelos. "
   ]
  },
  {
   "cell_type": "markdown",
   "metadata": {},
   "source": [
    "### Treinamento dos modelos de MLP"
   ]
  },
  {
   "cell_type": "code",
   "execution_count": 35,
   "metadata": {},
   "outputs": [
    {
     "name": "stdout",
     "output_type": "stream",
     "text": [
      "Iteration 1, loss = 0.44712567\n",
      "Iteration 2, loss = 0.18278316\n",
      "Iteration 3, loss = 0.10704844\n",
      "Iteration 4, loss = 0.07284677\n",
      "Iteration 5, loss = 0.05350268\n",
      "Iteration 6, loss = 0.04108106\n",
      "Iteration 7, loss = 0.03245815\n",
      "Iteration 8, loss = 0.02617643\n",
      "Iteration 9, loss = 0.02146642\n",
      "Iteration 10, loss = 0.01784872\n",
      "Iteration 11, loss = 0.01503980\n",
      "Iteration 12, loss = 0.01282789\n",
      "Iteration 13, loss = 0.01107862\n",
      "Iteration 14, loss = 0.00968224\n",
      "Iteration 15, loss = 0.00857454\n",
      "Iteration 16, loss = 0.00768090\n",
      "Iteration 17, loss = 0.00694955\n",
      "Iteration 18, loss = 0.00636448\n",
      "Iteration 19, loss = 0.00587896\n",
      "Iteration 20, loss = 0.00547096\n",
      "Iteration 21, loss = 0.00514153\n",
      "Iteration 22, loss = 0.00486394\n",
      "Iteration 23, loss = 0.00463970\n",
      "Iteration 24, loss = 0.00444806\n",
      "Iteration 25, loss = 0.00428848\n",
      "Iteration 26, loss = 0.00416164\n",
      "Iteration 27, loss = 0.00405845\n",
      "Iteration 28, loss = 0.00397288\n",
      "Iteration 29, loss = 0.00389169\n",
      "Iteration 30, loss = 0.00384026\n",
      "Iteration 31, loss = 0.00378302\n",
      "Iteration 32, loss = 0.00373476\n",
      "Iteration 33, loss = 0.00369068\n",
      "Iteration 34, loss = 0.00365951\n",
      "Iteration 35, loss = 0.00362109\n",
      "Iteration 36, loss = 0.00358533\n",
      "Iteration 37, loss = 0.00356035\n",
      "Iteration 38, loss = 0.00353709\n",
      "Training loss did not improve more than tol=0.000100 for 10 consecutive epochs. Stopping.\n",
      "Iteration 1, loss = 0.43843569\n",
      "Iteration 2, loss = 0.20873173\n",
      "Iteration 3, loss = 0.13844554\n",
      "Iteration 4, loss = 0.10211876\n",
      "Iteration 5, loss = 0.07934157\n",
      "Iteration 6, loss = 0.06356095\n",
      "Iteration 7, loss = 0.05190742\n",
      "Iteration 8, loss = 0.04299807\n",
      "Iteration 9, loss = 0.03593566\n",
      "Iteration 10, loss = 0.03032139\n",
      "Iteration 11, loss = 0.02575293\n",
      "Iteration 12, loss = 0.02205749\n",
      "Iteration 13, loss = 0.01906270\n",
      "Iteration 14, loss = 0.01665292\n",
      "Iteration 15, loss = 0.01463672\n",
      "Iteration 16, loss = 0.01298918\n",
      "Iteration 17, loss = 0.01174420\n",
      "Iteration 18, loss = 0.01063300\n",
      "Iteration 19, loss = 0.00978744\n",
      "Iteration 20, loss = 0.00908102\n",
      "Iteration 21, loss = 0.00852199\n",
      "Iteration 22, loss = 0.00808028\n",
      "Iteration 23, loss = 0.00763278\n",
      "Iteration 24, loss = 0.00738856\n",
      "Iteration 25, loss = 0.00713690\n",
      "Iteration 26, loss = 0.00691062\n",
      "Iteration 27, loss = 0.00675499\n",
      "Iteration 28, loss = 0.00664508\n",
      "Iteration 29, loss = 0.00651479\n",
      "Iteration 30, loss = 0.00643863\n",
      "Iteration 31, loss = 0.00633309\n",
      "Iteration 32, loss = 0.00626740\n",
      "Iteration 33, loss = 0.00619041\n",
      "Iteration 34, loss = 0.00617343\n",
      "Iteration 35, loss = 0.00606720\n",
      "Iteration 36, loss = 0.00600054\n",
      "Iteration 37, loss = 0.00599164\n",
      "Iteration 38, loss = 0.00592738\n",
      "Iteration 39, loss = 0.00590857\n",
      "Iteration 40, loss = 0.00584342\n",
      "Iteration 41, loss = 0.00581842\n",
      "Iteration 42, loss = 0.00578308\n",
      "Iteration 43, loss = 0.00577367\n",
      "Iteration 44, loss = 0.00569634\n",
      "Iteration 45, loss = 0.00568609\n",
      "Iteration 46, loss = 0.00568709\n",
      "Training loss did not improve more than tol=0.000100 for 10 consecutive epochs. Stopping.\n",
      "Iteration 1, loss = 0.47503105\n",
      "Iteration 2, loss = 0.23007786\n",
      "Iteration 3, loss = 0.15003163\n",
      "Iteration 4, loss = 0.10959531\n",
      "Iteration 5, loss = 0.08450387\n",
      "Iteration 6, loss = 0.06720520\n",
      "Iteration 7, loss = 0.05456598\n",
      "Iteration 8, loss = 0.04481390\n",
      "Iteration 9, loss = 0.03719597\n",
      "Iteration 10, loss = 0.03110674\n",
      "Iteration 11, loss = 0.02618310\n",
      "Iteration 12, loss = 0.02223070\n",
      "Iteration 13, loss = 0.01899067\n",
      "Iteration 14, loss = 0.01638473\n",
      "Iteration 15, loss = 0.01425176\n",
      "Iteration 16, loss = 0.01251946\n",
      "Iteration 17, loss = 0.01108849\n",
      "Iteration 18, loss = 0.00998360\n",
      "Iteration 19, loss = 0.00904740\n",
      "Iteration 20, loss = 0.00828688\n",
      "Iteration 21, loss = 0.00767537\n",
      "Iteration 22, loss = 0.00718490\n",
      "Iteration 23, loss = 0.00679475\n",
      "Iteration 24, loss = 0.00647803\n",
      "Iteration 25, loss = 0.00620695\n",
      "Iteration 26, loss = 0.00599999\n",
      "Iteration 27, loss = 0.00584845\n",
      "Iteration 28, loss = 0.00566820\n",
      "Iteration 29, loss = 0.00557678\n",
      "Iteration 30, loss = 0.00549338\n",
      "Iteration 31, loss = 0.00539537\n",
      "Iteration 32, loss = 0.00533797\n",
      "Iteration 33, loss = 0.00526201\n",
      "Iteration 34, loss = 0.00523267\n",
      "Iteration 35, loss = 0.00515584\n",
      "Iteration 36, loss = 0.00513822\n",
      "Iteration 37, loss = 0.00509198\n",
      "Iteration 38, loss = 0.00503232\n",
      "Iteration 39, loss = 0.00500383\n",
      "Training loss did not improve more than tol=0.000100 for 10 consecutive epochs. Stopping.\n",
      "Iteration 1, loss = 0.20845194\n",
      "Iteration 2, loss = 0.01855830\n",
      "Iteration 3, loss = 0.00772134\n",
      "Iteration 4, loss = 0.00522303\n",
      "Iteration 5, loss = 0.00426482\n",
      "Iteration 6, loss = 0.00378494\n",
      "Iteration 7, loss = 0.00351085\n",
      "Iteration 8, loss = 0.00332182\n",
      "Iteration 9, loss = 0.00317602\n",
      "Iteration 10, loss = 0.00306750\n",
      "Iteration 11, loss = 0.00296152\n",
      "Iteration 12, loss = 0.00287648\n",
      "Iteration 13, loss = 0.00279405\n",
      "Iteration 14, loss = 0.00272851\n",
      "Iteration 15, loss = 0.00265914\n",
      "Iteration 16, loss = 0.00260151\n",
      "Iteration 17, loss = 0.00255653\n",
      "Iteration 18, loss = 0.00250539\n",
      "Iteration 19, loss = 0.00243697\n",
      "Iteration 20, loss = 0.00241992\n",
      "Iteration 21, loss = 0.00238233\n",
      "Iteration 22, loss = 0.00233454\n",
      "Training loss did not improve more than tol=0.000100 for 10 consecutive epochs. Stopping.\n",
      "Iteration 1, loss = 0.21426917\n",
      "Iteration 2, loss = 0.02613098\n",
      "Iteration 3, loss = 0.01294576\n",
      "Iteration 4, loss = 0.00904925\n",
      "Iteration 5, loss = 0.00722917\n",
      "Iteration 6, loss = 0.00611389\n",
      "Iteration 7, loss = 0.00550720\n",
      "Iteration 8, loss = 0.00482841\n",
      "Iteration 9, loss = 0.00442642\n",
      "Iteration 10, loss = 0.00403171\n",
      "Iteration 11, loss = 0.00391388\n",
      "Iteration 12, loss = 0.00360169\n",
      "Iteration 13, loss = 0.00346995\n",
      "Iteration 14, loss = 0.00337126\n",
      "Iteration 15, loss = 0.00309036\n",
      "Iteration 16, loss = 0.00308265\n",
      "Iteration 17, loss = 0.00309122\n",
      "Iteration 18, loss = 0.00280773\n",
      "Iteration 19, loss = 0.00277179\n",
      "Iteration 20, loss = 0.00269978\n",
      "Iteration 21, loss = 0.00266226\n",
      "Iteration 22, loss = 0.00260544\n",
      "Iteration 23, loss = 0.00244908\n",
      "Iteration 24, loss = 0.00254287\n",
      "Iteration 25, loss = 0.00257766\n",
      "Iteration 26, loss = 0.00237706\n",
      "Iteration 27, loss = 0.00239122\n",
      "Iteration 28, loss = 0.00244349\n",
      "Iteration 29, loss = 0.00236125\n",
      "Iteration 30, loss = 0.00235214\n",
      "Iteration 31, loss = 0.00224361\n",
      "Iteration 32, loss = 0.00219978\n",
      "Iteration 33, loss = 0.00232943\n",
      "Iteration 34, loss = 0.00222396\n",
      "Iteration 35, loss = 0.00225832\n",
      "Iteration 36, loss = 0.00212498\n",
      "Iteration 37, loss = 0.00217728\n",
      "Iteration 38, loss = 0.00215833\n",
      "Iteration 39, loss = 0.00215453\n",
      "Iteration 40, loss = 0.00205614\n",
      "Iteration 41, loss = 0.00210122\n",
      "Iteration 42, loss = 0.00200662\n",
      "Training loss did not improve more than tol=0.000100 for 10 consecutive epochs. Stopping.\n",
      "Iteration 1, loss = 0.11745301\n",
      "Iteration 2, loss = 0.01432574\n",
      "Iteration 3, loss = 0.00733115\n",
      "Iteration 4, loss = 0.00540058\n",
      "Iteration 5, loss = 0.00454008\n",
      "Iteration 6, loss = 0.00407742\n",
      "Iteration 7, loss = 0.00376558\n",
      "Iteration 8, loss = 0.00353504\n",
      "Iteration 9, loss = 0.00332297\n",
      "Iteration 10, loss = 0.00317555\n",
      "Iteration 11, loss = 0.00300510\n",
      "Iteration 12, loss = 0.00282837\n",
      "Iteration 13, loss = 0.00268513\n",
      "Iteration 14, loss = 0.00258010\n",
      "Iteration 15, loss = 0.00245394\n",
      "Iteration 16, loss = 0.00233963\n",
      "Iteration 17, loss = 0.00227372\n",
      "Iteration 18, loss = 0.00218561\n",
      "Iteration 19, loss = 0.00212412\n",
      "Iteration 20, loss = 0.00204949\n",
      "Iteration 21, loss = 0.00200780\n",
      "Iteration 22, loss = 0.00197370\n",
      "Iteration 23, loss = 0.00193034\n",
      "Iteration 24, loss = 0.00190637\n",
      "Iteration 25, loss = 0.00181881\n",
      "Iteration 26, loss = 0.00178182\n",
      "Iteration 27, loss = 0.00177301\n",
      "Training loss did not improve more than tol=0.000100 for 10 consecutive epochs. Stopping.\n",
      "Iteration 1, loss = 0.97451277\n",
      "Iteration 2, loss = 0.59933716\n",
      "Iteration 3, loss = 0.37671952\n",
      "Iteration 4, loss = 0.04356528\n",
      "Iteration 5, loss = 0.00839452\n",
      "Iteration 6, loss = 0.00528684\n",
      "Iteration 7, loss = 0.00436333\n",
      "Iteration 8, loss = 0.00393597\n",
      "Iteration 9, loss = 0.00367583\n",
      "Iteration 10, loss = 0.00351460\n",
      "Iteration 11, loss = 0.00337511\n",
      "Iteration 12, loss = 0.00326417\n",
      "Iteration 13, loss = 0.00317813\n",
      "Iteration 14, loss = 0.00309766\n",
      "Iteration 15, loss = 0.00301605\n",
      "Iteration 16, loss = 0.00295511\n",
      "Iteration 17, loss = 0.00286492\n",
      "Iteration 18, loss = 0.00278404\n",
      "Iteration 19, loss = 0.00273491\n",
      "Iteration 20, loss = 0.00268332\n",
      "Iteration 21, loss = 0.00263652\n",
      "Iteration 22, loss = 0.00259665\n",
      "Iteration 23, loss = 0.00255464\n",
      "Training loss did not improve more than tol=0.000100 for 10 consecutive epochs. Stopping.\n",
      "Iteration 1, loss = 0.15981206\n",
      "Iteration 2, loss = 0.01169578\n"
     ]
    },
    {
     "name": "stdout",
     "output_type": "stream",
     "text": [
      "Iteration 3, loss = 0.00595209\n",
      "Iteration 4, loss = 0.00476875\n",
      "Iteration 5, loss = 0.00430992\n",
      "Iteration 6, loss = 0.00404996\n",
      "Iteration 7, loss = 0.00388904\n",
      "Iteration 8, loss = 0.00375888\n",
      "Iteration 9, loss = 0.00364904\n",
      "Iteration 10, loss = 0.00356362\n",
      "Iteration 11, loss = 0.00348185\n",
      "Iteration 12, loss = 0.00339097\n",
      "Iteration 13, loss = 0.00333295\n",
      "Iteration 14, loss = 0.00325123\n",
      "Iteration 15, loss = 0.00318020\n",
      "Iteration 16, loss = 0.00313006\n",
      "Iteration 17, loss = 0.00307420\n",
      "Iteration 18, loss = 0.00301723\n",
      "Iteration 19, loss = 0.00295159\n",
      "Iteration 20, loss = 0.00290748\n",
      "Training loss did not improve more than tol=0.000100 for 10 consecutive epochs. Stopping.\n",
      "Iteration 1, loss = 0.12913292\n",
      "Iteration 2, loss = 0.01301035\n",
      "Iteration 3, loss = 0.00523919\n",
      "Iteration 4, loss = 0.00429244\n",
      "Iteration 5, loss = 0.00385406\n",
      "Iteration 6, loss = 0.00357875\n",
      "Iteration 7, loss = 0.00341170\n",
      "Iteration 8, loss = 0.00329292\n",
      "Iteration 9, loss = 0.00316504\n",
      "Iteration 10, loss = 0.00310786\n",
      "Iteration 11, loss = 0.00302242\n",
      "Iteration 12, loss = 0.00294457\n",
      "Iteration 13, loss = 0.00289896\n",
      "Iteration 14, loss = 0.00282208\n",
      "Iteration 15, loss = 0.00274680\n",
      "Iteration 16, loss = 0.00273134\n",
      "Iteration 17, loss = 0.00261726\n",
      "Iteration 18, loss = 0.00263452\n",
      "Iteration 19, loss = 0.00264137\n",
      "Iteration 20, loss = 0.00252048\n",
      "Iteration 21, loss = 0.00252538\n",
      "Iteration 22, loss = 0.00233017\n",
      "Iteration 23, loss = 0.00244131\n",
      "Iteration 24, loss = 0.00228291\n",
      "Iteration 25, loss = 0.00225657\n",
      "Iteration 26, loss = 0.00217963\n",
      "Iteration 27, loss = 0.00218536\n",
      "Iteration 28, loss = 0.00216342\n",
      "Iteration 29, loss = 0.00215027\n",
      "Iteration 30, loss = 0.00209292\n",
      "Iteration 31, loss = 0.00197902\n",
      "Iteration 32, loss = 0.00218560\n",
      "Iteration 33, loss = 0.00205565\n",
      "Iteration 34, loss = 0.00205134\n",
      "Iteration 35, loss = 0.00195389\n",
      "Iteration 36, loss = 0.00192710\n",
      "Iteration 37, loss = 0.00193064\n",
      "Iteration 38, loss = 0.00196266\n",
      "Iteration 39, loss = 0.00192421\n",
      "Iteration 40, loss = 0.00190541\n",
      "Iteration 41, loss = 0.00187778\n",
      "Iteration 42, loss = 0.00181134\n",
      "Training loss did not improve more than tol=0.000100 for 10 consecutive epochs. Stopping.\n",
      "Wall time: 1min 6s\n"
     ]
    }
   ],
   "source": [
    "%%time\n",
    "models_k = []\n",
    "\n",
    "cv_k = []\n",
    "for m in range(len(redes)):\n",
    "    for cv in range(kf.get_n_splits(data_train)):\n",
    "        cv_k.append(redes[m].fit(data_kfold[cv][0], data_kfold[cv][1]))\n",
    "    models_k.append(cv_k) \n",
    "    cv_k = []"
   ]
  },
  {
   "cell_type": "code",
   "execution_count": 36,
   "metadata": {},
   "outputs": [
    {
     "data": {
      "text/plain": [
       "[[MLPClassifier(hidden_layer_sizes=(), verbose=True),\n",
       "  MLPClassifier(hidden_layer_sizes=(), verbose=True),\n",
       "  MLPClassifier(hidden_layer_sizes=(), verbose=True)],\n",
       " [MLPClassifier(hidden_layer_sizes=[10], verbose=True),\n",
       "  MLPClassifier(hidden_layer_sizes=[10], verbose=True),\n",
       "  MLPClassifier(hidden_layer_sizes=[10], verbose=True)],\n",
       " [MLPClassifier(hidden_layer_sizes=[5, 5], verbose=True),\n",
       "  MLPClassifier(hidden_layer_sizes=[5, 5], verbose=True),\n",
       "  MLPClassifier(hidden_layer_sizes=[5, 5], verbose=True)]]"
      ]
     },
     "execution_count": 36,
     "metadata": {},
     "output_type": "execute_result"
    }
   ],
   "source": [
    "models_k"
   ]
  },
  {
   "cell_type": "markdown",
   "metadata": {},
   "source": [
    "A seguir, realiza-se a avaliação das 9 variações do modelo com a métrica AUC."
   ]
  },
  {
   "cell_type": "code",
   "execution_count": 37,
   "metadata": {},
   "outputs": [],
   "source": [
    "scores_k = []\n",
    "\n",
    "socres_cv_k = []\n",
    "for m in range(len(redes)):\n",
    "    for cv in range(kf.get_n_splits(data_train)):\n",
    "        socres_cv_k.append(roc_auc_score(data_kfold[cv][3], redes[m].predict(data_kfold[cv][2])))\n",
    "    scores_k.append(socres_cv_k)\n",
    "    socres_cv_k = []"
   ]
  },
  {
   "cell_type": "code",
   "execution_count": 38,
   "metadata": {},
   "outputs": [
    {
     "name": "stdout",
     "output_type": "stream",
     "text": [
      "--- Avaliação dos modelos ---\n",
      "Média\n",
      "Desvio Padrão\n",
      "--- Modelo: hidden_layer_sizes ()\n",
      "0.730574418681378\n",
      "0.06953386705355805\n",
      "--- Modelo: hidden_layer_sizes [10]\n",
      "0.8811828440327928\n",
      "0.04378613276874017\n",
      "--- Modelo: hidden_layer_sizes [5,5]\n",
      "0.9015734235067513\n",
      "0.03885168548643127\n"
     ]
    }
   ],
   "source": [
    "scores_k = np.array(scores_k)\n",
    "select_M = 0\n",
    "Tmax = 0\n",
    "param_MLP = ['()', '[10]', '[5,5]']\n",
    "print(\"--- Avaliação dos modelos ---\")\n",
    "print(\"Média\")\n",
    "print(\"Desvio Padrão\")      \n",
    "for i in range(3):\n",
    "    print(\"--- Modelo: hidden_layer_sizes\", param_MLP[i])\n",
    "    if(np.mean(scores_k[i])>Tmax):\n",
    "        select_M = i\n",
    "        Tmax = np.mean(scores_k[i])\n",
    "    print(np.mean(scores_k[i]))\n",
    "    print(np.std(scores_k[i]))"
   ]
  },
  {
   "cell_type": "markdown",
   "metadata": {},
   "source": [
    "#### Melhor modelo MLP"
   ]
  },
  {
   "cell_type": "code",
   "execution_count": 39,
   "metadata": {},
   "outputs": [
    {
     "data": {
      "text/plain": [
       "MLPClassifier(hidden_layer_sizes=[5, 5], verbose=True)"
      ]
     },
     "execution_count": 39,
     "metadata": {},
     "output_type": "execute_result"
    }
   ],
   "source": [
    "redes[select_M]"
   ]
  },
  {
   "cell_type": "markdown",
   "metadata": {},
   "source": [
    "### Treinando modelos knn"
   ]
  },
  {
   "cell_type": "code",
   "execution_count": 40,
   "metadata": {},
   "outputs": [],
   "source": [
    "knn_k = []\n",
    "\n",
    "cv_k = []\n",
    "for m in range(len(knns)):\n",
    "    for cv in range(kf.get_n_splits(data_train)):\n",
    "        cv_k.append(knns[m].fit(data_kfold[cv][0], data_kfold[cv][1]))\n",
    "    knn_k.append(cv_k) \n",
    "    cv_k = []"
   ]
  },
  {
   "cell_type": "code",
   "execution_count": 41,
   "metadata": {},
   "outputs": [
    {
     "data": {
      "text/plain": [
       "[[KNeighborsClassifier(n_neighbors=3),\n",
       "  KNeighborsClassifier(n_neighbors=3),\n",
       "  KNeighborsClassifier(n_neighbors=3)],\n",
       " [KNeighborsClassifier(), KNeighborsClassifier(), KNeighborsClassifier()],\n",
       " [KNeighborsClassifier(n_neighbors=7),\n",
       "  KNeighborsClassifier(n_neighbors=7),\n",
       "  KNeighborsClassifier(n_neighbors=7)]]"
      ]
     },
     "execution_count": 41,
     "metadata": {},
     "output_type": "execute_result"
    }
   ],
   "source": [
    "knn_k"
   ]
  },
  {
   "cell_type": "code",
   "execution_count": 42,
   "metadata": {},
   "outputs": [
    {
     "name": "stdout",
     "output_type": "stream",
     "text": [
      "Wall time: 10min 53s\n"
     ]
    }
   ],
   "source": [
    "%%time\n",
    "scores_knn_k = []\n",
    "\n",
    "scores_cv_k = []\n",
    "for m in range(len(redes)):\n",
    "    for cv in range(kf.get_n_splits(data_train)):\n",
    "        scores_cv_k.append(roc_auc_score(data_kfold[cv][3], knns[m].predict(data_kfold[cv][2])))\n",
    "    scores_knn_k.append(scores_cv_k)\n",
    "    scores_cv_k = []"
   ]
  },
  {
   "cell_type": "code",
   "execution_count": 43,
   "metadata": {},
   "outputs": [
    {
     "data": {
      "text/plain": [
       "[[0.9550245201792572, 0.9055450021341364, 0.7832805662262372],\n",
       " [0.9437674587257284, 0.9055450021341364, 0.7888361217817927],\n",
       " [0.943756905527054, 0.905523895291298, 0.7943811239159292]]"
      ]
     },
     "execution_count": 43,
     "metadata": {},
     "output_type": "execute_result"
    }
   ],
   "source": [
    "scores_knn_k"
   ]
  },
  {
   "cell_type": "code",
   "execution_count": 44,
   "metadata": {},
   "outputs": [
    {
     "name": "stdout",
     "output_type": "stream",
     "text": [
      "--- Avaliação dos modelos ---\n",
      "Média\n",
      "Desvio Padrão\n",
      "--- Modelo: n_neighbors 3\n",
      "0.8812833628465436\n",
      "0.07218248534349225\n",
      "--- Modelo: n_neighbors 5\n",
      "0.8793828608805526\n",
      "0.06590029346438546\n",
      "--- Modelo: n_neighbors 7\n",
      "0.8812206415780937\n",
      "0.06335754171772501\n"
     ]
    }
   ],
   "source": [
    "select_K= 0\n",
    "Tmax = 0 \n",
    "param_KNN = ['3', '5', '7']\n",
    "print(\"--- Avaliação dos modelos ---\")\n",
    "print(\"Média\")\n",
    "print(\"Desvio Padrão\")  \n",
    "for i in range(3):\n",
    "    print(\"--- Modelo: n_neighbors\", param_KNN[i])\n",
    "    if(np.mean(scores_knn_k[i])>Tmax):\n",
    "        select_K = i\n",
    "        Tmax = np.mean(scores_knn_k[i])\n",
    "    print(np.mean(scores_knn_k[i]))\n",
    "    print(np.std(scores_knn_k[i]))"
   ]
  },
  {
   "cell_type": "markdown",
   "metadata": {},
   "source": [
    "#### Melhor modelo Knn"
   ]
  },
  {
   "cell_type": "code",
   "execution_count": 45,
   "metadata": {},
   "outputs": [
    {
     "data": {
      "text/plain": [
       "KNeighborsClassifier(n_neighbors=3)"
      ]
     },
     "execution_count": 45,
     "metadata": {},
     "output_type": "execute_result"
    }
   ],
   "source": [
    "knns[select_K]"
   ]
  },
  {
   "cell_type": "markdown",
   "metadata": {},
   "source": [
    "## Utilizando a classe GridSearchCV, temos"
   ]
  },
  {
   "cell_type": "markdown",
   "metadata": {},
   "source": [
    "### MLP explorando hiperparâmetros"
   ]
  },
  {
   "cell_type": "code",
   "execution_count": 46,
   "metadata": {},
   "outputs": [],
   "source": [
    "parameters = [{'hidden_layer_sizes':[(), [10], [5,5]]}]"
   ]
  },
  {
   "cell_type": "code",
   "execution_count": 47,
   "metadata": {},
   "outputs": [],
   "source": [
    "cv_mlp = GridSearchCV(estimator=MLPClassifier(), param_grid=parameters, cv=3, scoring=make_scorer(roc_auc_score, greater_is_better=True))"
   ]
  },
  {
   "cell_type": "code",
   "execution_count": 48,
   "metadata": {},
   "outputs": [
    {
     "name": "stdout",
     "output_type": "stream",
     "text": [
      "Wall time: 1min 12s\n"
     ]
    },
    {
     "data": {
      "text/plain": [
       "GridSearchCV(cv=3, estimator=MLPClassifier(),\n",
       "             param_grid=[{'hidden_layer_sizes': [(), [10], [5, 5]]}],\n",
       "             scoring=make_scorer(roc_auc_score))"
      ]
     },
     "execution_count": 48,
     "metadata": {},
     "output_type": "execute_result"
    }
   ],
   "source": [
    "%%time\n",
    "cv_mlp.fit(target_train, label_train)\n"
   ]
  },
  {
   "cell_type": "code",
   "execution_count": 49,
   "metadata": {},
   "outputs": [
    {
     "data": {
      "text/plain": [
       "{'mean_fit_time': array([5.06447442, 6.90484198, 8.26344283]),\n",
       " 'std_fit_time': array([0.34937208, 1.241977  , 1.06794019]),\n",
       " 'mean_score_time': array([0.01041857, 0.02329834, 0.02117562]),\n",
       " 'std_score_time': array([0.00736704, 0.00638249, 0.00714339]),\n",
       " 'param_hidden_layer_sizes': masked_array(data=[(), list([10]), list([5, 5])],\n",
       "              mask=[False, False, False],\n",
       "        fill_value='?',\n",
       "             dtype=object),\n",
       " 'params': [{'hidden_layer_sizes': ()},\n",
       "  {'hidden_layer_sizes': [10]},\n",
       "  {'hidden_layer_sizes': [5, 5]}],\n",
       " 'split0_test_score': array([0.83661028, 0.8924986 , 0.91466814]),\n",
       " 'split1_test_score': array([0.79443389, 0.83883612, 0.82220112]),\n",
       " 'split2_test_score': array([0.62775667, 0.79993668, 0.83323835]),\n",
       " 'mean_test_score': array([0.75293361, 0.84375713, 0.85670254]),\n",
       " 'std_test_score': array([0.09017266, 0.03794812, 0.0412348 ]),\n",
       " 'rank_test_score': array([3, 2, 1])}"
      ]
     },
     "execution_count": 49,
     "metadata": {},
     "output_type": "execute_result"
    }
   ],
   "source": [
    "cv_mlp.cv_results_"
   ]
  },
  {
   "cell_type": "code",
   "execution_count": 53,
   "metadata": {},
   "outputs": [
    {
     "data": {
      "text/plain": [
       "{'hidden_layer_sizes': [5, 5]}"
      ]
     },
     "execution_count": 53,
     "metadata": {},
     "output_type": "execute_result"
    }
   ],
   "source": [
    "cv_mlp.best_params_"
   ]
  },
  {
   "cell_type": "markdown",
   "metadata": {},
   "source": [
    "### KNN explorando hiperparâmetros"
   ]
  },
  {
   "cell_type": "code",
   "execution_count": 54,
   "metadata": {},
   "outputs": [],
   "source": [
    "parameters = [{'n_neighbors':[3, 5, 7]}]"
   ]
  },
  {
   "cell_type": "code",
   "execution_count": 55,
   "metadata": {},
   "outputs": [],
   "source": [
    "cv_knn = GridSearchCV(estimator=KNeighborsClassifier(), param_grid=parameters, cv=3, scoring=make_scorer(roc_auc_score, greater_is_better=True), verbose=1 , n_jobs=-1)"
   ]
  },
  {
   "cell_type": "code",
   "execution_count": 56,
   "metadata": {},
   "outputs": [
    {
     "name": "stdout",
     "output_type": "stream",
     "text": [
      "Fitting 3 folds for each of 3 candidates, totalling 9 fits\n"
     ]
    },
    {
     "name": "stderr",
     "output_type": "stream",
     "text": [
      "[Parallel(n_jobs=-1)]: Using backend LokyBackend with 8 concurrent workers.\n",
      "[Parallel(n_jobs=-1)]: Done   4 out of   9 | elapsed:  2.8min remaining:  3.5min\n",
      "[Parallel(n_jobs=-1)]: Done   9 out of   9 | elapsed:  4.4min finished\n"
     ]
    },
    {
     "name": "stdout",
     "output_type": "stream",
     "text": [
      "Wall time: 4min 23s\n"
     ]
    },
    {
     "data": {
      "text/plain": [
       "GridSearchCV(cv=3, estimator=KNeighborsClassifier(), n_jobs=-1,\n",
       "             param_grid=[{'n_neighbors': [3, 5, 7]}],\n",
       "             scoring=make_scorer(roc_auc_score), verbose=1)"
      ]
     },
     "execution_count": 56,
     "metadata": {},
     "output_type": "execute_result"
    }
   ],
   "source": [
    "%%time\n",
    "cv_knn.fit(target_train, label_train)"
   ]
  },
  {
   "cell_type": "code",
   "execution_count": 57,
   "metadata": {},
   "outputs": [
    {
     "data": {
      "text/plain": [
       "{'mean_fit_time': array([2.64343643, 2.59269675, 2.98557075]),\n",
       " 'std_fit_time': array([0.07750696, 0.21274195, 0.23690055]),\n",
       " 'mean_score_time': array([162.79603028, 184.54077792, 182.89834396]),\n",
       " 'std_score_time': array([46.76201868, 42.20994226, 52.31914229]),\n",
       " 'param_n_neighbors': masked_array(data=[3, 5, 7],\n",
       "              mask=[False, False, False],\n",
       "        fill_value='?',\n",
       "             dtype=object),\n",
       " 'params': [{'n_neighbors': 3}, {'n_neighbors': 5}, {'n_neighbors': 7}],\n",
       " 'split0_test_score': array([0.95461295, 0.95463405, 0.95463405]),\n",
       " 'split1_test_score': array([0.78330167, 0.76662445, 0.75551334]),\n",
       " 'split2_test_score': array([0.78328057, 0.78883612, 0.79438112]),\n",
       " 'mean_test_score': array([0.84039839, 0.83669821, 0.83484284]),\n",
       " 'std_test_score': array([0.08076188, 0.08388479, 0.0861786 ]),\n",
       " 'rank_test_score': array([1, 2, 3])}"
      ]
     },
     "execution_count": 57,
     "metadata": {},
     "output_type": "execute_result"
    }
   ],
   "source": [
    "cv_knn.cv_results_"
   ]
  },
  {
   "cell_type": "code",
   "execution_count": 58,
   "metadata": {},
   "outputs": [
    {
     "data": {
      "text/plain": [
       "{'n_neighbors': 3}"
      ]
     },
     "execution_count": 58,
     "metadata": {},
     "output_type": "execute_result"
    }
   ],
   "source": [
    "cv_knn.best_params_"
   ]
  },
  {
   "cell_type": "markdown",
   "metadata": {},
   "source": [
    "## Comparação script próprio e o GridSearchCV"
   ]
  },
  {
   "cell_type": "markdown",
   "metadata": {},
   "source": [
    "### MLP\n",
    "\n"
   ]
  },
  {
   "cell_type": "code",
   "execution_count": 59,
   "metadata": {},
   "outputs": [
    {
     "name": "stdout",
     "output_type": "stream",
     "text": [
      "'hidden_layer_sizes': [5, 5]\n"
     ]
    }
   ],
   "source": [
    "print(\"'hidden_layer_sizes':\",redes[select_M].get_params()['hidden_layer_sizes'])\n"
   ]
  },
  {
   "cell_type": "code",
   "execution_count": 60,
   "metadata": {},
   "outputs": [
    {
     "data": {
      "text/plain": [
       "{'hidden_layer_sizes': [5, 5]}"
      ]
     },
     "execution_count": 60,
     "metadata": {},
     "output_type": "execute_result"
    }
   ],
   "source": [
    "cv_mlp.best_params_"
   ]
  },
  {
   "cell_type": "markdown",
   "metadata": {},
   "source": [
    "### KNN"
   ]
  },
  {
   "cell_type": "code",
   "execution_count": 61,
   "metadata": {},
   "outputs": [
    {
     "data": {
      "text/plain": [
       "KNeighborsClassifier(n_neighbors=3)"
      ]
     },
     "execution_count": 61,
     "metadata": {},
     "output_type": "execute_result"
    }
   ],
   "source": [
    "knns[select_K]"
   ]
  },
  {
   "cell_type": "code",
   "execution_count": 62,
   "metadata": {},
   "outputs": [
    {
     "data": {
      "text/plain": [
       "{'n_neighbors': 3}"
      ]
     },
     "execution_count": 62,
     "metadata": {},
     "output_type": "execute_result"
    }
   ],
   "source": [
    "cv_knn.best_params_"
   ]
  },
  {
   "cell_type": "markdown",
   "metadata": {},
   "source": [
    "## Experiência de performance "
   ]
  },
  {
   "cell_type": "markdown",
   "metadata": {},
   "source": [
    "### a) Qual técnica obteve o melhor resultado na base de teste?\n",
    "\n",
    "### b) Qual técnica demora mais para gerar as previsões nos dados de teste?\n"
   ]
  },
  {
   "cell_type": "markdown",
   "metadata": {},
   "source": [
    "### Melhor modelo MLP"
   ]
  },
  {
   "cell_type": "code",
   "execution_count": 63,
   "metadata": {},
   "outputs": [],
   "source": [
    "model = redes[select_M]"
   ]
  },
  {
   "cell_type": "markdown",
   "metadata": {},
   "source": [
    "**TEMPO DE EXECUÇÃO**\n",
    "\n",
    "**TREINO:**"
   ]
  },
  {
   "cell_type": "code",
   "execution_count": 64,
   "metadata": {},
   "outputs": [
    {
     "name": "stdout",
     "output_type": "stream",
     "text": [
      "Iteration 1, loss = 0.06482553\n",
      "Iteration 2, loss = 0.00929426\n",
      "Iteration 3, loss = 0.00674939\n",
      "Iteration 4, loss = 0.00546009\n",
      "Iteration 5, loss = 0.00462534\n",
      "Iteration 6, loss = 0.00409635\n",
      "Iteration 7, loss = 0.00389245\n",
      "Iteration 8, loss = 0.00372930\n",
      "Iteration 9, loss = 0.00356336\n",
      "Iteration 10, loss = 0.00345263\n",
      "Iteration 11, loss = 0.00330815\n",
      "Iteration 12, loss = 0.00320408\n",
      "Iteration 13, loss = 0.00312258\n",
      "Iteration 14, loss = 0.00303033\n",
      "Iteration 15, loss = 0.00297433\n",
      "Iteration 16, loss = 0.00289251\n",
      "Iteration 17, loss = 0.00286500\n",
      "Iteration 18, loss = 0.00280397\n",
      "Iteration 19, loss = 0.00276909\n",
      "Iteration 20, loss = 0.00273327\n",
      "Iteration 21, loss = 0.00271190\n",
      "Iteration 22, loss = 0.00265369\n",
      "Iteration 23, loss = 0.00265341\n",
      "Training loss did not improve more than tol=0.000100 for 10 consecutive epochs. Stopping.\n",
      "Wall time: 11.5 s\n"
     ]
    },
    {
     "data": {
      "text/plain": [
       "MLPClassifier(hidden_layer_sizes=[5, 5], verbose=True)"
      ]
     },
     "execution_count": 64,
     "metadata": {},
     "output_type": "execute_result"
    }
   ],
   "source": [
    " %%time\n",
    "model.fit(target_train, label_train)"
   ]
  },
  {
   "cell_type": "markdown",
   "metadata": {},
   "source": [
    "**PREDIÇÃO BASE:** "
   ]
  },
  {
   "cell_type": "code",
   "execution_count": 65,
   "metadata": {},
   "outputs": [
    {
     "name": "stdout",
     "output_type": "stream",
     "text": [
      "Wall time: 52 ms\n"
     ]
    }
   ],
   "source": [
    "%%time\n",
    "predict_model = model.predict(target_test)"
   ]
  },
  {
   "cell_type": "markdown",
   "metadata": {},
   "source": [
    "**TEMPO TOTAL:** \n"
   ]
  },
  {
   "cell_type": "markdown",
   "metadata": {},
   "source": [
    "Aproximadamente: 12 s"
   ]
  },
  {
   "cell_type": "code",
   "execution_count": 66,
   "metadata": {},
   "outputs": [
    {
     "name": "stdout",
     "output_type": "stream",
     "text": [
      "Score AUC - MLP: 0.9064892478239231\n"
     ]
    }
   ],
   "source": [
    "print(\"Score AUC - MLP:\",roc_auc_score(label_test, predict_model))"
   ]
  },
  {
   "cell_type": "markdown",
   "metadata": {},
   "source": [
    "### Melhor modelo KNN"
   ]
  },
  {
   "cell_type": "code",
   "execution_count": 67,
   "metadata": {},
   "outputs": [],
   "source": [
    "knn = knns[select_K]"
   ]
  },
  {
   "cell_type": "markdown",
   "metadata": {},
   "source": [
    "**TEMPO DE EXECUÇÃO**\n",
    "\n",
    "**TREINO:**"
   ]
  },
  {
   "cell_type": "code",
   "execution_count": 68,
   "metadata": {},
   "outputs": [
    {
     "name": "stdout",
     "output_type": "stream",
     "text": [
      "Wall time: 1.69 s\n"
     ]
    },
    {
     "data": {
      "text/plain": [
       "KNeighborsClassifier(n_neighbors=3)"
      ]
     },
     "execution_count": 68,
     "metadata": {},
     "output_type": "execute_result"
    }
   ],
   "source": [
    "%%time\n",
    "knn.fit(target_train, label_train)"
   ]
  },
  {
   "cell_type": "markdown",
   "metadata": {},
   "source": [
    "**PREDIÇÃO BASE:** "
   ]
  },
  {
   "cell_type": "code",
   "execution_count": 69,
   "metadata": {},
   "outputs": [
    {
     "name": "stdout",
     "output_type": "stream",
     "text": [
      "Wall time: 12min 24s\n"
     ]
    }
   ],
   "source": [
    "%%time\n",
    "predict_knn = knn.predict(target_test)"
   ]
  },
  {
   "cell_type": "markdown",
   "metadata": {},
   "source": [
    "**TEMPO TOTAL:** \n"
   ]
  },
  {
   "cell_type": "markdown",
   "metadata": {},
   "source": [
    "Aproximadamente  12 min 30 s"
   ]
  },
  {
   "cell_type": "code",
   "execution_count": 70,
   "metadata": {},
   "outputs": [
    {
     "name": "stdout",
     "output_type": "stream",
     "text": [
      "Score AUC - MLP: 0.8740350449471302\n"
     ]
    }
   ],
   "source": [
    "print(\"Score AUC - MLP:\",roc_auc_score(label_test, predict_knn))"
   ]
  },
  {
   "cell_type": "markdown",
   "metadata": {},
   "source": [
    "Portanto, o melhor modelo entre MLP e KNN para a solução deste problema vista tempo de execução total e avaliação é **MLP**."
   ]
  },
  {
   "cell_type": "markdown",
   "metadata": {},
   "source": [
    "Observação: Houve dificuldade em obter o output do comando mágico %%time, por esse motivo considerar os valores totais de tempo em uma execução durante a experiÊncia e pode não se repetir em re-execuções, porém a disparidade entre KNN e MLP é constante."
   ]
  },
  {
   "cell_type": "markdown",
   "metadata": {},
   "source": [
    "## Questão 4"
   ]
  },
  {
   "cell_type": "markdown",
   "metadata": {},
   "source": [
    "Para esta questão avaliaremos a matrix de confução para encontrar os seguintes indices:"
   ]
  },
  {
   "cell_type": "markdown",
   "metadata": {},
   "source": [
    "**Verdadeiro - Negativo:**\n",
    "Cada fraude evitada em média evita um prejuízo (gera um lucro) de R$ 100\n",
    "\n",
    "**Falso - Negativo:**\n",
    "Cada não-fraude bloqueada gera em média um prejuízo de 2 reais.\n"
   ]
  },
  {
   "cell_type": "code",
   "execution_count": 71,
   "metadata": {
    "scrolled": true
   },
   "outputs": [
    {
     "data": {
      "image/png": "[encoded data removed]",
      "text/plain": [
       "<Figure size 432x288 with 2 Axes>"
      ]
     },
     "metadata": {
      "needs_background": "light"
     },
     "output_type": "display_data"
    }
   ],
   "source": [
    "\n",
    "cm = plot_confusion_matrix(model, target_test, label_test,\n",
    "                             display_labels=[\"Não-Fraude\", \"Fraude\"],\n",
    "                             cmap=plt.cm.Blues,\n",
    "                             normalize=None)\n",
    "cm.ax_.set_title(\"Matrix de confusão não normalizado\")\n",
    "\n",
    "plt.show()"
   ]
  },
  {
   "cell_type": "code",
   "execution_count": 72,
   "metadata": {},
   "outputs": [],
   "source": [
    "VN = cm.confusion_matrix[1][1]"
   ]
  },
  {
   "cell_type": "code",
   "execution_count": 73,
   "metadata": {},
   "outputs": [],
   "source": [
    "FN = cm.confusion_matrix[0][1]"
   ]
  },
  {
   "cell_type": "code",
   "execution_count": 74,
   "metadata": {},
   "outputs": [],
   "source": [
    "Lucro = (VN*(100))+(FN*(-2))"
   ]
  },
  {
   "cell_type": "markdown",
   "metadata": {},
   "source": [
    "Por fim, temos o cálculo do lucro oferecido pelo modelo com os valores expostos no enunciado."
   ]
  },
  {
   "cell_type": "markdown",
   "metadata": {},
   "source": [
    "### Lucro esperado"
   ]
  },
  {
   "cell_type": "code",
   "execution_count": 75,
   "metadata": {
    "scrolled": true
   },
   "outputs": [
    {
     "name": "stdout",
     "output_type": "stream",
     "text": [
      "R$ 17300\n"
     ]
    }
   ],
   "source": [
    "print(\"R$\",Lucro)"
   ]
  },
  {
   "cell_type": "markdown",
   "metadata": {},
   "source": [
    "## Questão 5"
   ]
  },
  {
   "cell_type": "markdown",
   "metadata": {},
   "source": [
    "Nesta questão utilizaremos um modelo composto por um único neurônio para verificar o impacto das _fetures_ da base de dados."
   ]
  },
  {
   "cell_type": "code",
   "execution_count": 76,
   "metadata": {},
   "outputs": [],
   "source": [
    "data_train = pd.read_csv(\"./train.csv\",delimiter=',')\n",
    "data_test = pd.read_csv(\"./test.csv\",delimiter=',')"
   ]
  },
  {
   "cell_type": "code",
   "execution_count": 77,
   "metadata": {},
   "outputs": [],
   "source": [
    "target_test = data_test.drop('Class', axis=1)\n",
    "label_test = data_test['Class']"
   ]
  },
  {
   "cell_type": "code",
   "execution_count": 78,
   "metadata": {},
   "outputs": [],
   "source": [
    "target_train = data_train.drop('Class', axis=1)\n",
    "label_train = data_train['Class']"
   ]
  },
  {
   "cell_type": "markdown",
   "metadata": {},
   "source": [
    "Inicio o modelo com o hiperparametro __penalty__='l1', pois resulta em _weight_ nulos para as entradas sem influência na saída"
   ]
  },
  {
   "cell_type": "code",
   "execution_count": 79,
   "metadata": {},
   "outputs": [],
   "source": [
    "neuronio = SGDClassifier(loss='log', random_state=42, penalty='l1')\n"
   ]
  },
  {
   "cell_type": "code",
   "execution_count": 80,
   "metadata": {},
   "outputs": [
    {
     "data": {
      "text/plain": [
       "SGDClassifier(loss='log', penalty='l1', random_state=42)"
      ]
     },
     "execution_count": 80,
     "metadata": {},
     "output_type": "execute_result"
    }
   ],
   "source": [
    "neuronio.fit(target_train, label_train)"
   ]
  },
  {
   "cell_type": "code",
   "execution_count": 81,
   "metadata": {},
   "outputs": [
    {
     "data": {
      "text/plain": [
       "0.8295832447595324"
      ]
     },
     "execution_count": 81,
     "metadata": {},
     "output_type": "execute_result"
    }
   ],
   "source": [
    "roc_auc_score(label_test, neuronio.predict(target_test))"
   ]
  },
  {
   "cell_type": "code",
   "execution_count": 82,
   "metadata": {},
   "outputs": [],
   "source": [
    "w = neuronio.coef_[0]"
   ]
  },
  {
   "cell_type": "code",
   "execution_count": 83,
   "metadata": {},
   "outputs": [
    {
     "data": {
      "text/plain": [
       "array([ 200.65772195,  192.20966766,  -26.254422  ,  -16.38961516,\n",
       "        -59.29673962,    0.        ,    0.        ,   14.55805129,\n",
       "        -44.07702743,  -22.69659509,  -44.70670146,    0.        ,\n",
       "        -33.73913207,  -36.25067654,  -81.97062719,  -20.86478838,\n",
       "        -34.66528511,   13.66088106,  -11.35961667,  117.29494357,\n",
       "         79.43164706,   50.68633693,  111.07959735,    0.        ,\n",
       "        -39.31362634,    0.        , -103.35595862,   40.21647171])"
      ]
     },
     "execution_count": 83,
     "metadata": {},
     "output_type": "execute_result"
    }
   ],
   "source": [
    "w"
   ]
  },
  {
   "cell_type": "code",
   "execution_count": 84,
   "metadata": {
    "scrolled": false
   },
   "outputs": [
    {
     "data": {
      "text/plain": [
       "[<matplotlib.lines.Line2D at 0x20a11f1a610>]"
      ]
     },
     "execution_count": 84,
     "metadata": {},
     "output_type": "execute_result"
    },
    {
     "data": {
      "image/png": "[encoded data removed]",
      "text/plain": [
       "<Figure size 432x288 with 1 Axes>"
      ]
     },
     "metadata": {
      "needs_background": "light"
     },
     "output_type": "display_data"
    }
   ],
   "source": [
    "plt.plot(w)"
   ]
  },
  {
   "cell_type": "markdown",
   "metadata": {},
   "source": [
    "Agora, verificamos o impacto das variáveis com peso nulo, primeiro removendo-as da base de dados"
   ]
  },
  {
   "cell_type": "code",
   "execution_count": 85,
   "metadata": {},
   "outputs": [],
   "source": [
    "tol = 1\n",
    "remover = []\n",
    "\n",
    "for i  in range(len(w)):\n",
    "    if(np.sqrt(w[i]**2)>tol):\n",
    "        remover.append(i)"
   ]
  },
  {
   "cell_type": "code",
   "execution_count": 86,
   "metadata": {},
   "outputs": [
    {
     "data": {
      "text/plain": [
       "array(['V6', 'V7', 'V12', 'V24', 'V26', 'Class'], dtype=object)"
      ]
     },
     "execution_count": 86,
     "metadata": {},
     "output_type": "execute_result"
    }
   ],
   "source": [
    "\n",
    "fetures = np.array(data_train.columns)\n",
    "fetures = np.delete(fetures, remover)\n",
    "fetures"
   ]
  },
  {
   "cell_type": "markdown",
   "metadata": {},
   "source": [
    "Com a nova base de dados verificamos o modelo e seus pesos"
   ]
  },
  {
   "cell_type": "code",
   "execution_count": 87,
   "metadata": {},
   "outputs": [],
   "source": [
    "new_target_train = data_train.drop(fetures, axis=1)\n",
    "label_train = data_train['Class']"
   ]
  },
  {
   "cell_type": "code",
   "execution_count": 88,
   "metadata": {},
   "outputs": [],
   "source": [
    "new_target_test = data_test.drop(fetures, axis=1)\n",
    "label_test = data_test['Class']"
   ]
  },
  {
   "cell_type": "markdown",
   "metadata": {},
   "source": [
    "Em carater de experimento faz-se a comparação da avaliação e matrix de confusão do modelo, em especial, verificando os valores **Verdadeiro Negativo** e **Falso Negativo** que condiz com as taxas intríncicas ao problema."
   ]
  },
  {
   "cell_type": "markdown",
   "metadata": {},
   "source": [
    "### Comparando modelos de único neurônio"
   ]
  },
  {
   "cell_type": "code",
   "execution_count": 89,
   "metadata": {},
   "outputs": [],
   "source": [
    "new_neuronio = SGDClassifier(loss='log', random_state=42, penalty='l1')"
   ]
  },
  {
   "cell_type": "code",
   "execution_count": 90,
   "metadata": {},
   "outputs": [
    {
     "data": {
      "text/plain": [
       "SGDClassifier(loss='log', penalty='l1', random_state=42)"
      ]
     },
     "execution_count": 90,
     "metadata": {},
     "output_type": "execute_result"
    }
   ],
   "source": [
    "new_neuronio.fit(new_target_train, label_train)"
   ]
  },
  {
   "cell_type": "code",
   "execution_count": 91,
   "metadata": {},
   "outputs": [
    {
     "data": {
      "text/plain": [
       "array([[ 141.82196849,  126.61731964,  -19.92491524,    0.        ,\n",
       "         -16.34105026,   21.97532216,  -57.03951522,  -39.62393377,\n",
       "         -32.42537554,  -40.06476677,  -18.54386709,  -67.46675212,\n",
       "         -22.98794608,  -25.38343468,   22.74837859,   -2.71104658,\n",
       "          80.63222529,   91.56267741,   47.45075295,   82.04395061,\n",
       "         -63.59311157, -115.68936126,    9.3229018 ]])"
      ]
     },
     "execution_count": 91,
     "metadata": {},
     "output_type": "execute_result"
    }
   ],
   "source": [
    "new_w = new_neuronio.coef_\n",
    "new_w"
   ]
  },
  {
   "cell_type": "code",
   "execution_count": 92,
   "metadata": {},
   "outputs": [
    {
     "data": {
      "image/png": "[encoded data removed]",
      "text/plain": [
       "<Figure size 432x288 with 2 Axes>"
      ]
     },
     "metadata": {
      "needs_background": "light"
     },
     "output_type": "display_data"
    }
   ],
   "source": [
    "new_neuronio_cm = plot_confusion_matrix(new_neuronio, new_target_test, label_test,\n",
    "                             display_labels=[\"Não-Fraude\", \"Fraude\"],\n",
    "                             cmap=plt.cm.Blues,\n",
    "                             normalize=None)\n",
    "new_neuronio_cm.ax_.set_title(\"Matrix de confusão Modelo Neurônio Unico - Parcial\")\n",
    "\n",
    "plt.show()"
   ]
  },
  {
   "cell_type": "code",
   "execution_count": 93,
   "metadata": {},
   "outputs": [
    {
     "data": {
      "text/plain": [
       "0.8438237199482497"
      ]
     },
     "execution_count": 93,
     "metadata": {},
     "output_type": "execute_result"
    }
   ],
   "source": [
    "auc_neuronio_parcial = roc_auc_score(label_test, new_neuronio.predict(new_target_test))\n",
    "auc_neuronio_parcial"
   ]
  },
  {
   "cell_type": "code",
   "execution_count": 107,
   "metadata": {},
   "outputs": [
    {
     "data": {
      "image/png": "[encoded data removed]",
      "text/plain": [
       "<Figure size 432x288 with 2 Axes>"
      ]
     },
     "metadata": {
      "needs_background": "light"
     },
     "output_type": "display_data"
    }
   ],
   "source": [
    "neuronio_cm = plot_confusion_matrix(neuronio, target_test, label_test,\n",
    "                             display_labels=[\"Não-Fraude\", \"Fraude\"],\n",
    "                             cmap=plt.cm.Blues,\n",
    "                             normalize=None)\n",
    "neuronio_cm.ax_.set_title(\"Matrix de confusão Modelo Neurônio Unico - Completo\")\n",
    "\n",
    "plt.show()"
   ]
  },
  {
   "cell_type": "code",
   "execution_count": 95,
   "metadata": {},
   "outputs": [
    {
     "data": {
      "text/plain": [
       "0.8295832447595324"
      ]
     },
     "execution_count": 95,
     "metadata": {},
     "output_type": "execute_result"
    }
   ],
   "source": [
    "auc_neuronio_completo = roc_auc_score(label_test, neuronio.predict(target_test))\n",
    "auc_neuronio_completo"
   ]
  },
  {
   "cell_type": "markdown",
   "metadata": {},
   "source": [
    "Diferencia da métrica de avaliação AUC:"
   ]
  },
  {
   "cell_type": "code",
   "execution_count": 96,
   "metadata": {},
   "outputs": [
    {
     "data": {
      "text/plain": [
       "-0.014240475188717294"
      ]
     },
     "execution_count": 96,
     "metadata": {},
     "output_type": "execute_result"
    }
   ],
   "source": [
    "auc_neuronio_completo - auc_neuronio_parcial"
   ]
  },
  {
   "cell_type": "markdown",
   "metadata": {},
   "source": [
    "### Comparando modelos da questão 3 e 4"
   ]
  },
  {
   "cell_type": "code",
   "execution_count": 97,
   "metadata": {},
   "outputs": [
    {
     "name": "stdout",
     "output_type": "stream",
     "text": [
      "Iteration 1, loss = 0.19016008\n",
      "Iteration 2, loss = 0.00837503\n",
      "Iteration 3, loss = 0.00622355\n",
      "Iteration 4, loss = 0.00560224\n",
      "Iteration 5, loss = 0.00513658\n",
      "Iteration 6, loss = 0.00477084\n",
      "Iteration 7, loss = 0.00447922\n",
      "Iteration 8, loss = 0.00422771\n",
      "Iteration 9, loss = 0.00400797\n",
      "Iteration 10, loss = 0.00386998\n",
      "Iteration 11, loss = 0.00374902\n",
      "Iteration 12, loss = 0.00364177\n",
      "Iteration 13, loss = 0.00354283\n",
      "Iteration 14, loss = 0.00344591\n",
      "Iteration 15, loss = 0.00334567\n",
      "Iteration 16, loss = 0.00328476\n",
      "Iteration 17, loss = 0.00322285\n",
      "Iteration 18, loss = 0.00318337\n",
      "Iteration 19, loss = 0.00314440\n",
      "Iteration 20, loss = 0.00312816\n",
      "Iteration 21, loss = 0.00310673\n",
      "Iteration 22, loss = 0.00308196\n",
      "Iteration 23, loss = 0.00306930\n",
      "Iteration 24, loss = 0.00302371\n",
      "Iteration 25, loss = 0.00303744\n",
      "Iteration 26, loss = 0.00299506\n",
      "Training loss did not improve more than tol=0.000100 for 10 consecutive epochs. Stopping.\n"
     ]
    },
    {
     "data": {
      "text/plain": [
       "MLPClassifier(hidden_layer_sizes=[5, 5], verbose=True)"
      ]
     },
     "execution_count": 97,
     "metadata": {},
     "output_type": "execute_result"
    }
   ],
   "source": [
    "new_model  = MLPClassifier(\n",
    "    hidden_layer_sizes=redes[select_M].get_params()['hidden_layer_sizes'],\n",
    "    verbose=True\n",
    ") \n",
    "new_model.fit(new_target_train, label_train)"
   ]
  },
  {
   "cell_type": "code",
   "execution_count": 106,
   "metadata": {},
   "outputs": [
    {
     "data": {
      "image/png": "[encoded data removed]",
      "text/plain": [
       "<Figure size 432x288 with 2 Axes>"
      ]
     },
     "metadata": {
      "needs_background": "light"
     },
     "output_type": "display_data"
    }
   ],
   "source": [
    "new_cm = plot_confusion_matrix(new_model, new_target_test, label_test,\n",
    "                             display_labels=[\"Não-Fraude\", \"Fraude\"],\n",
    "                             cmap=plt.cm.Blues,\n",
    "                             normalize=None)\n",
    "new_cm.ax_.set_title(\"Matrix de confusão Questão Anterior  - Parcial\")\n",
    "\n",
    "plt.show()"
   ]
  },
  {
   "cell_type": "code",
   "execution_count": 99,
   "metadata": {},
   "outputs": [
    {
     "data": {
      "text/plain": [
       "0.8715185922978955"
      ]
     },
     "execution_count": 99,
     "metadata": {},
     "output_type": "execute_result"
    }
   ],
   "source": [
    "auc_parcial = roc_auc_score(label_test, new_model.predict(new_target_test))\n",
    "auc_parcial"
   ]
  },
  {
   "cell_type": "code",
   "execution_count": 105,
   "metadata": {},
   "outputs": [
    {
     "data": {
      "image/png": "[encoded data removed]",
      "text/plain": [
       "<Figure size 432x288 with 2 Axes>"
      ]
     },
     "metadata": {
      "needs_background": "light"
     },
     "output_type": "display_data"
    }
   ],
   "source": [
    "cm = plot_confusion_matrix(model, target_test, label_test,\n",
    "                             display_labels=[\"Não-Fraude\", \"Fraude\"],\n",
    "                             cmap=plt.cm.Blues,\n",
    "                             normalize=None)\n",
    "cm.ax_.set_title(\"Matrix de confusão Questão Anterior  - Completo\")\n",
    "\n",
    "plt.show()"
   ]
  },
  {
   "cell_type": "code",
   "execution_count": 101,
   "metadata": {},
   "outputs": [
    {
     "data": {
      "text/plain": [
       "0.9064892478239231"
      ]
     },
     "execution_count": 101,
     "metadata": {},
     "output_type": "execute_result"
    }
   ],
   "source": [
    "auc_completo = roc_auc_score(label_test, model.predict(target_test))\n",
    "auc_completo"
   ]
  },
  {
   "cell_type": "markdown",
   "metadata": {},
   "source": [
    "Verificamos através do regulador L1 que as variaveis de menor impacto para o modelo foram:"
   ]
  },
  {
   "cell_type": "code",
   "execution_count": 102,
   "metadata": {},
   "outputs": [
    {
     "data": {
      "text/plain": [
       "array(['V6', 'V7', 'V12', 'V24', 'V26'], dtype=object)"
      ]
     },
     "execution_count": 102,
     "metadata": {},
     "output_type": "execute_result"
    }
   ],
   "source": [
    "fetures = np.delete(fetures, -1)\n",
    "fetures"
   ]
  },
  {
   "cell_type": "markdown",
   "metadata": {},
   "source": [
    "Em relação a avaliação dos modelos Completo e parcial (sem as variaveis com w=0), vemos uma diferença de "
   ]
  },
  {
   "cell_type": "code",
   "execution_count": 103,
   "metadata": {},
   "outputs": [
    {
     "data": {
      "text/plain": [
       "0.03497065552602763"
      ]
     },
     "execution_count": 103,
     "metadata": {},
     "output_type": "execute_result"
    }
   ],
   "source": [
    "auc_completo - auc_parcial"
   ]
  },
  {
   "cell_type": "markdown",
   "metadata": {},
   "source": [
    "que apesar de baixa, não sustenta a ausência das variaveis, pois podem retratar alguma característica que não é retratada na amostra da base de teste. De todo modo foram identificadas as variáveis de menos \"importantes\" para defenir uma saída no modelo.  "
   ]
  }
 ],
 "metadata": {
  "kernelspec": {
   "display_name": "Python 3",
   "language": "python",
   "name": "python3"
  },
  "language_info": {
   "codemirror_mode": {
    "name": "ipython",
    "version": 3
   },
   "file_extension": ".py",
   "mimetype": "text/x-python",
   "name": "python",
   "nbconvert_exporter": "python",
   "pygments_lexer": "ipython3",
   "version": "3.8.5"
  },
  "widgets": {
   "application/vnd.jupyter.widget-state+json": {
    "state": {},
    "version_major": 2,
    "version_minor": 0
   }
  }
 },
 "nbformat": 4,
 "nbformat_minor": 4
}
