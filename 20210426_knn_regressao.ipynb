{
  "nbformat": 4,
  "nbformat_minor": 5,
  "metadata": {
    "kernelspec": {
      "display_name": "Python 3",
      "language": "python",
      "name": "python3"
    },
    "language_info": {
      "codemirror_mode": {
        "name": "ipython",
        "version": 3
      },
      "file_extension": ".py",
      "mimetype": "text/x-python",
      "name": "python",
      "nbconvert_exporter": "python",
      "pygments_lexer": "ipython3",
      "version": "3.8.8"
    },
    "colab": {
      "name": "20210426_knn_regressao.ipynb",
      "provenance": []
    }
  },
  "cells": [
    {
      "cell_type": "code",
      "metadata": {
        "id": "c74dd2ee"
      },
      "source": [
        "#@title Texto de título padrão\n",
        "\n",
        "%matplotlib inline\n",
        "\n",
        "import pandas as pd\n",
        "import matplotlib.pyplot as plt\n",
        "\n",
        "from sklearn.datasets import load_boston\n",
        "from sklearn.model_selection import train_test_split\n",
        "from sklearn.neighbors import KNeighborsRegressor\n",
        "from sklearn.metrics import mean_absolute_error\n",
        "from sklearn.preprocessing import MinMaxScaler"
      ],
      "id": "c74dd2ee",
      "execution_count": null,
      "outputs": []
    },
    {
      "cell_type": "code",
      "metadata": {
        "id": "531838e3"
      },
      "source": [
        "dataset = load_boston()"
      ],
      "id": "531838e3",
      "execution_count": null,
      "outputs": []
    },
    {
      "cell_type": "code",
      "metadata": {
        "id": "28179fa9"
      },
      "source": [
        "X, y = dataset.data, dataset.target"
      ],
      "id": "28179fa9",
      "execution_count": null,
      "outputs": []
    },
    {
      "cell_type": "code",
      "metadata": {
        "id": "03af5b2b",
        "outputId": "7c3ddd52-69ae-49fb-86b7-940e54c5cc23"
      },
      "source": [
        "df = pd.DataFrame(\n",
        "    data=X, \n",
        "    columns=dataset.feature_names\n",
        ")\n",
        "\n",
        "df"
      ],
      "id": "03af5b2b",
      "execution_count": null,
      "outputs": [
        {
          "output_type": "execute_result",
          "data": {
            "text/html": [
              "<div>\n",
              "<style scoped>\n",
              "    .dataframe tbody tr th:only-of-type {\n",
              "        vertical-align: middle;\n",
              "    }\n",
              "\n",
              "    .dataframe tbody tr th {\n",
              "        vertical-align: top;\n",
              "    }\n",
              "\n",
              "    .dataframe thead th {\n",
              "        text-align: right;\n",
              "    }\n",
              "</style>\n",
              "<table border=\"1\" class=\"dataframe\">\n",
              "  <thead>\n",
              "    <tr style=\"text-align: right;\">\n",
              "      <th></th>\n",
              "      <th>CRIM</th>\n",
              "      <th>ZN</th>\n",
              "      <th>INDUS</th>\n",
              "      <th>CHAS</th>\n",
              "      <th>NOX</th>\n",
              "      <th>RM</th>\n",
              "      <th>AGE</th>\n",
              "      <th>DIS</th>\n",
              "      <th>RAD</th>\n",
              "      <th>TAX</th>\n",
              "      <th>PTRATIO</th>\n",
              "      <th>B</th>\n",
              "      <th>LSTAT</th>\n",
              "    </tr>\n",
              "  </thead>\n",
              "  <tbody>\n",
              "    <tr>\n",
              "      <th>0</th>\n",
              "      <td>0.00632</td>\n",
              "      <td>18.0</td>\n",
              "      <td>2.31</td>\n",
              "      <td>0.0</td>\n",
              "      <td>0.538</td>\n",
              "      <td>6.575</td>\n",
              "      <td>65.2</td>\n",
              "      <td>4.0900</td>\n",
              "      <td>1.0</td>\n",
              "      <td>296.0</td>\n",
              "      <td>15.3</td>\n",
              "      <td>396.90</td>\n",
              "      <td>4.98</td>\n",
              "    </tr>\n",
              "    <tr>\n",
              "      <th>1</th>\n",
              "      <td>0.02731</td>\n",
              "      <td>0.0</td>\n",
              "      <td>7.07</td>\n",
              "      <td>0.0</td>\n",
              "      <td>0.469</td>\n",
              "      <td>6.421</td>\n",
              "      <td>78.9</td>\n",
              "      <td>4.9671</td>\n",
              "      <td>2.0</td>\n",
              "      <td>242.0</td>\n",
              "      <td>17.8</td>\n",
              "      <td>396.90</td>\n",
              "      <td>9.14</td>\n",
              "    </tr>\n",
              "    <tr>\n",
              "      <th>2</th>\n",
              "      <td>0.02729</td>\n",
              "      <td>0.0</td>\n",
              "      <td>7.07</td>\n",
              "      <td>0.0</td>\n",
              "      <td>0.469</td>\n",
              "      <td>7.185</td>\n",
              "      <td>61.1</td>\n",
              "      <td>4.9671</td>\n",
              "      <td>2.0</td>\n",
              "      <td>242.0</td>\n",
              "      <td>17.8</td>\n",
              "      <td>392.83</td>\n",
              "      <td>4.03</td>\n",
              "    </tr>\n",
              "    <tr>\n",
              "      <th>3</th>\n",
              "      <td>0.03237</td>\n",
              "      <td>0.0</td>\n",
              "      <td>2.18</td>\n",
              "      <td>0.0</td>\n",
              "      <td>0.458</td>\n",
              "      <td>6.998</td>\n",
              "      <td>45.8</td>\n",
              "      <td>6.0622</td>\n",
              "      <td>3.0</td>\n",
              "      <td>222.0</td>\n",
              "      <td>18.7</td>\n",
              "      <td>394.63</td>\n",
              "      <td>2.94</td>\n",
              "    </tr>\n",
              "    <tr>\n",
              "      <th>4</th>\n",
              "      <td>0.06905</td>\n",
              "      <td>0.0</td>\n",
              "      <td>2.18</td>\n",
              "      <td>0.0</td>\n",
              "      <td>0.458</td>\n",
              "      <td>7.147</td>\n",
              "      <td>54.2</td>\n",
              "      <td>6.0622</td>\n",
              "      <td>3.0</td>\n",
              "      <td>222.0</td>\n",
              "      <td>18.7</td>\n",
              "      <td>396.90</td>\n",
              "      <td>5.33</td>\n",
              "    </tr>\n",
              "    <tr>\n",
              "      <th>...</th>\n",
              "      <td>...</td>\n",
              "      <td>...</td>\n",
              "      <td>...</td>\n",
              "      <td>...</td>\n",
              "      <td>...</td>\n",
              "      <td>...</td>\n",
              "      <td>...</td>\n",
              "      <td>...</td>\n",
              "      <td>...</td>\n",
              "      <td>...</td>\n",
              "      <td>...</td>\n",
              "      <td>...</td>\n",
              "      <td>...</td>\n",
              "    </tr>\n",
              "    <tr>\n",
              "      <th>501</th>\n",
              "      <td>0.06263</td>\n",
              "      <td>0.0</td>\n",
              "      <td>11.93</td>\n",
              "      <td>0.0</td>\n",
              "      <td>0.573</td>\n",
              "      <td>6.593</td>\n",
              "      <td>69.1</td>\n",
              "      <td>2.4786</td>\n",
              "      <td>1.0</td>\n",
              "      <td>273.0</td>\n",
              "      <td>21.0</td>\n",
              "      <td>391.99</td>\n",
              "      <td>9.67</td>\n",
              "    </tr>\n",
              "    <tr>\n",
              "      <th>502</th>\n",
              "      <td>0.04527</td>\n",
              "      <td>0.0</td>\n",
              "      <td>11.93</td>\n",
              "      <td>0.0</td>\n",
              "      <td>0.573</td>\n",
              "      <td>6.120</td>\n",
              "      <td>76.7</td>\n",
              "      <td>2.2875</td>\n",
              "      <td>1.0</td>\n",
              "      <td>273.0</td>\n",
              "      <td>21.0</td>\n",
              "      <td>396.90</td>\n",
              "      <td>9.08</td>\n",
              "    </tr>\n",
              "    <tr>\n",
              "      <th>503</th>\n",
              "      <td>0.06076</td>\n",
              "      <td>0.0</td>\n",
              "      <td>11.93</td>\n",
              "      <td>0.0</td>\n",
              "      <td>0.573</td>\n",
              "      <td>6.976</td>\n",
              "      <td>91.0</td>\n",
              "      <td>2.1675</td>\n",
              "      <td>1.0</td>\n",
              "      <td>273.0</td>\n",
              "      <td>21.0</td>\n",
              "      <td>396.90</td>\n",
              "      <td>5.64</td>\n",
              "    </tr>\n",
              "    <tr>\n",
              "      <th>504</th>\n",
              "      <td>0.10959</td>\n",
              "      <td>0.0</td>\n",
              "      <td>11.93</td>\n",
              "      <td>0.0</td>\n",
              "      <td>0.573</td>\n",
              "      <td>6.794</td>\n",
              "      <td>89.3</td>\n",
              "      <td>2.3889</td>\n",
              "      <td>1.0</td>\n",
              "      <td>273.0</td>\n",
              "      <td>21.0</td>\n",
              "      <td>393.45</td>\n",
              "      <td>6.48</td>\n",
              "    </tr>\n",
              "    <tr>\n",
              "      <th>505</th>\n",
              "      <td>0.04741</td>\n",
              "      <td>0.0</td>\n",
              "      <td>11.93</td>\n",
              "      <td>0.0</td>\n",
              "      <td>0.573</td>\n",
              "      <td>6.030</td>\n",
              "      <td>80.8</td>\n",
              "      <td>2.5050</td>\n",
              "      <td>1.0</td>\n",
              "      <td>273.0</td>\n",
              "      <td>21.0</td>\n",
              "      <td>396.90</td>\n",
              "      <td>7.88</td>\n",
              "    </tr>\n",
              "  </tbody>\n",
              "</table>\n",
              "<p>506 rows × 13 columns</p>\n",
              "</div>"
            ],
            "text/plain": [
              "        CRIM    ZN  INDUS  CHAS    NOX     RM   AGE     DIS  RAD    TAX  \\\n",
              "0    0.00632  18.0   2.31   0.0  0.538  6.575  65.2  4.0900  1.0  296.0   \n",
              "1    0.02731   0.0   7.07   0.0  0.469  6.421  78.9  4.9671  2.0  242.0   \n",
              "2    0.02729   0.0   7.07   0.0  0.469  7.185  61.1  4.9671  2.0  242.0   \n",
              "3    0.03237   0.0   2.18   0.0  0.458  6.998  45.8  6.0622  3.0  222.0   \n",
              "4    0.06905   0.0   2.18   0.0  0.458  7.147  54.2  6.0622  3.0  222.0   \n",
              "..       ...   ...    ...   ...    ...    ...   ...     ...  ...    ...   \n",
              "501  0.06263   0.0  11.93   0.0  0.573  6.593  69.1  2.4786  1.0  273.0   \n",
              "502  0.04527   0.0  11.93   0.0  0.573  6.120  76.7  2.2875  1.0  273.0   \n",
              "503  0.06076   0.0  11.93   0.0  0.573  6.976  91.0  2.1675  1.0  273.0   \n",
              "504  0.10959   0.0  11.93   0.0  0.573  6.794  89.3  2.3889  1.0  273.0   \n",
              "505  0.04741   0.0  11.93   0.0  0.573  6.030  80.8  2.5050  1.0  273.0   \n",
              "\n",
              "     PTRATIO       B  LSTAT  \n",
              "0       15.3  396.90   4.98  \n",
              "1       17.8  396.90   9.14  \n",
              "2       17.8  392.83   4.03  \n",
              "3       18.7  394.63   2.94  \n",
              "4       18.7  396.90   5.33  \n",
              "..       ...     ...    ...  \n",
              "501     21.0  391.99   9.67  \n",
              "502     21.0  396.90   9.08  \n",
              "503     21.0  396.90   5.64  \n",
              "504     21.0  393.45   6.48  \n",
              "505     21.0  396.90   7.88  \n",
              "\n",
              "[506 rows x 13 columns]"
            ]
          },
          "metadata": {
            "tags": []
          },
          "execution_count": 5
        }
      ]
    },
    {
      "cell_type": "code",
      "metadata": {
        "id": "3c623814",
        "outputId": "c4a28b0b-950c-4d2d-b466-16c1f08535aa"
      },
      "source": [
        "plt.hist(y)"
      ],
      "id": "3c623814",
      "execution_count": null,
      "outputs": [
        {
          "output_type": "execute_result",
          "data": {
            "text/plain": [
              "(array([ 21.,  55.,  82., 154.,  84.,  41.,  30.,   8.,  10.,  21.]),\n",
              " array([ 5. ,  9.5, 14. , 18.5, 23. , 27.5, 32. , 36.5, 41. , 45.5, 50. ]),\n",
              " <BarContainer object of 10 artists>)"
            ]
          },
          "metadata": {
            "tags": []
          },
          "execution_count": 7
        },
        {
          "output_type": "display_data",
          "data": {
            "image/png": "[encoded data removed]",
            "text/plain": [
              "<Figure size 432x288 with 1 Axes>"
            ]
          },
          "metadata": {
            "tags": [],
            "needs_background": "light"
          }
        }
      ]
    },
    {
      "cell_type": "code",
      "metadata": {
        "id": "601f38ea"
      },
      "source": [
        "X_train, X_test, y_train, y_test = train_test_split(\n",
        "    X, y,\n",
        "    test_size=0.4,\n",
        "    random_state=42\n",
        ")"
      ],
      "id": "601f38ea",
      "execution_count": null,
      "outputs": []
    },
    {
      "cell_type": "code",
      "metadata": {
        "id": "055b3c7f"
      },
      "source": [
        "knn = KNeighborsRegressor(n_neighbors=3)"
      ],
      "id": "055b3c7f",
      "execution_count": null,
      "outputs": []
    },
    {
      "cell_type": "code",
      "metadata": {
        "id": "142e9c42",
        "outputId": "049323ab-0102-45b9-a92c-5fb5926a3d17"
      },
      "source": [
        "knn.fit(X_train, y_train)"
      ],
      "id": "142e9c42",
      "execution_count": null,
      "outputs": [
        {
          "output_type": "execute_result",
          "data": {
            "text/plain": [
              "KNeighborsRegressor(n_neighbors=3)"
            ]
          },
          "metadata": {
            "tags": []
          },
          "execution_count": 12
        }
      ]
    },
    {
      "cell_type": "code",
      "metadata": {
        "id": "6445cd6d",
        "outputId": "c2782755-e8dd-453a-dd4a-c852d1359b2a"
      },
      "source": [
        "y_pred = knn.predict(X_test)\n",
        "\n",
        "y_pred"
      ],
      "id": "6445cd6d",
      "execution_count": null,
      "outputs": [
        {
          "output_type": "execute_result",
          "data": {
            "text/plain": [
              "array([25.1       , 30.06666667, 13.46666667, 30.76666667, 18.26666667,\n",
              "       30.63333333, 19.13333333, 15.96666667, 19.86666667, 22.4       ,\n",
              "       25.2       , 17.66666667, 11.96666667, 22.93333333, 23.8       ,\n",
              "       22.13333333, 19.73333333, 12.63333333, 36.4       , 11.1       ,\n",
              "       27.83333333, 29.53333333, 16.73333333, 20.3       , 21.56666667,\n",
              "       27.33333333, 22.93333333,  9.76666667, 24.56666667, 22.66666667,\n",
              "       21.7       , 24.56666667,  8.56666667, 29.83333333, 21.56666667,\n",
              "       19.33333333, 22.73333333, 25.8       , 21.9       , 30.76666667,\n",
              "       22.66666667, 27.5       , 43.76666667, 21.26666667, 24.03333333,\n",
              "       12.56666667, 21.16666667, 30.76666667, 20.73333333, 22.06666667,\n",
              "       20.43333333, 30.76666667, 19.9       , 22.66666667, 35.36666667,\n",
              "       20.83333333, 10.83333333, 33.36666667, 23.33333333, 22.63333333,\n",
              "       23.5       , 36.4       , 30.76666667, 14.8       , 28.46666667,\n",
              "       25.2       , 11.8       , 24.73333333, 33.36666667, 13.33333333,\n",
              "       20.8       , 22.23333333, 13.33333333, 28.        , 22.93333333,\n",
              "       10.63333333, 19.73333333, 43.76666667, 10.23333333, 12.83333333,\n",
              "       21.26666667, 13.73333333, 26.23333333, 12.46666667, 21.66666667,\n",
              "       26.66666667, 14.83333333, 22.3       , 24.73333333, 18.43333333,\n",
              "       23.8       , 15.83333333, 18.43333333, 20.83333333, 29.56666667,\n",
              "       17.93333333, 27.66666667,  8.83333333, 11.23333333,  8.83333333,\n",
              "       23.33333333, 22.93333333, 15.3       , 21.16666667, 23.93333333,\n",
              "       11.16666667, 24.8       , 23.16666667, 20.8       , 29.93333333,\n",
              "        7.66666667, 17.6       , 20.8       , 36.4       , 32.73333333,\n",
              "       12.83333333, 32.03333333, 14.8       , 22.93333333, 21.36666667,\n",
              "       25.56666667, 35.16666667, 11.03333333, 20.3       , 25.43333333,\n",
              "       23.66666667, 29.96666667, 26.76666667, 15.76666667, 29.63333333,\n",
              "       19.36666667, 21.06666667, 16.73333333, 16.96666667, 18.66666667,\n",
              "       12.96666667, 20.8       , 36.4       , 28.06666667, 19.9       ,\n",
              "       20.96666667, 26.13333333, 30.66666667, 24.73333333, 16.36666667,\n",
              "       35.9       , 22.96666667, 12.        , 19.9       , 38.03333333,\n",
              "       12.96666667, 15.2       , 24.46666667, 19.53333333, 20.8       ,\n",
              "       30.03333333, 19.5       , 31.53333333, 25.8       ,  9.73333333,\n",
              "       37.86666667, 22.06666667, 24.4       , 24.56666667, 35.9       ,\n",
              "       18.73333333, 43.2       , 15.1       , 16.73333333, 17.73333333,\n",
              "       19.13333333, 19.43333333, 30.33333333, 32.53333333, 22.23333333,\n",
              "       22.53333333, 20.        , 24.43333333, 32.43333333, 29.63333333,\n",
              "       14.53333333, 10.76666667, 12.03333333, 15.1       , 30.06666667,\n",
              "       27.        , 11.16666667, 15.13333333, 39.26666667, 32.23333333,\n",
              "       27.33333333, 22.23333333, 22.66666667, 11.43333333, 10.63333333,\n",
              "       29.1       , 35.16666667, 19.43333333, 21.56666667, 21.46666667,\n",
              "       25.06666667, 21.9       , 33.33333333])"
            ]
          },
          "metadata": {
            "tags": []
          },
          "execution_count": 15
        }
      ]
    },
    {
      "cell_type": "code",
      "metadata": {
        "id": "73d813f3",
        "outputId": "cbd9d38f-43a3-448e-f4cd-c16d04e65637"
      },
      "source": [
        "mean_absolute_error(y_test, y_pred)"
      ],
      "id": "73d813f3",
      "execution_count": null,
      "outputs": [
        {
          "output_type": "execute_result",
          "data": {
            "text/plain": [
              "3.998686371100164"
            ]
          },
          "metadata": {
            "tags": []
          },
          "execution_count": 16
        }
      ]
    },
    {
      "cell_type": "code",
      "metadata": {
        "id": "d47995a6",
        "outputId": "66d15575-cd99-49e2-ea7f-34477297466e"
      },
      "source": [
        "diff = y_test - y_pred\n",
        "\n",
        "plt.hist(diff)"
      ],
      "id": "d47995a6",
      "execution_count": null,
      "outputs": [
        {
          "output_type": "execute_result",
          "data": {
            "text/plain": [
              "(array([ 3., 12., 39., 63., 56., 13., 11.,  4.,  1.,  1.]),\n",
              " array([-15.3       , -11.53666667,  -7.77333333,  -4.01      ,\n",
              "         -0.24666667,   3.51666667,   7.28      ,  11.04333333,\n",
              "         14.80666667,  18.57      ,  22.33333333]),\n",
              " <BarContainer object of 10 artists>)"
            ]
          },
          "metadata": {
            "tags": []
          },
          "execution_count": 17
        },
        {
          "output_type": "display_data",
          "data": {
            "image/png": "[encoded data removed]",
            "text/plain": [
              "<Figure size 432x288 with 1 Axes>"
            ]
          },
          "metadata": {
            "tags": [],
            "needs_background": "light"
          }
        }
      ]
    },
    {
      "cell_type": "code",
      "metadata": {
        "id": "5ffe31f8",
        "outputId": "f948d678-1665-41fd-f7b6-f695ba2c48bd"
      },
      "source": [
        "scaler = MinMaxScaler()\n",
        "\n",
        "scaler.fit(X_train)"
      ],
      "id": "5ffe31f8",
      "execution_count": null,
      "outputs": [
        {
          "output_type": "execute_result",
          "data": {
            "text/plain": [
              "MinMaxScaler()"
            ]
          },
          "metadata": {
            "tags": []
          },
          "execution_count": 19
        }
      ]
    },
    {
      "cell_type": "code",
      "metadata": {
        "id": "6dc981cc"
      },
      "source": [
        "X_train_scaled = scaler.transform(X_train)\n",
        "X_test_scaled  = scaler.transform(X_test)"
      ],
      "id": "6dc981cc",
      "execution_count": null,
      "outputs": []
    },
    {
      "cell_type": "code",
      "metadata": {
        "id": "f58eb478",
        "outputId": "7dc69e3a-c09d-4d1b-bd62-64353da9ebba"
      },
      "source": [
        "knn.fit(X_train_scaled, y_train)"
      ],
      "id": "f58eb478",
      "execution_count": null,
      "outputs": [
        {
          "output_type": "execute_result",
          "data": {
            "text/plain": [
              "KNeighborsRegressor(n_neighbors=3)"
            ]
          },
          "metadata": {
            "tags": []
          },
          "execution_count": 21
        }
      ]
    },
    {
      "cell_type": "code",
      "metadata": {
        "id": "1e72d492",
        "outputId": "33d01a57-0968-4067-ad8c-818f2c15f122"
      },
      "source": [
        "y_pred = knn.predict(X_test_scaled)\n",
        "\n",
        "mean_absolute_error(y_test, y_pred)"
      ],
      "id": "1e72d492",
      "execution_count": null,
      "outputs": [
        {
          "output_type": "execute_result",
          "data": {
            "text/plain": [
              "2.9213464696223315"
            ]
          },
          "metadata": {
            "tags": []
          },
          "execution_count": 22
        }
      ]
    },
    {
      "cell_type": "code",
      "metadata": {
        "id": "541776bc",
        "outputId": "2f053637-a8ab-4415-a728-16b6f72aa2bf"
      },
      "source": [
        "diff = y_test - y_pred\n",
        "\n",
        "plt.hist(diff)"
      ],
      "id": "541776bc",
      "execution_count": null,
      "outputs": [
        {
          "output_type": "execute_result",
          "data": {
            "text/plain": [
              "(array([ 2.,  9., 82., 75., 23., 10.,  1.,  0.,  0.,  1.]),\n",
              " array([-13.13333333,  -8.92333333,  -4.71333333,  -0.50333333,\n",
              "          3.70666667,   7.91666667,  12.12666667,  16.33666667,\n",
              "         20.54666667,  24.75666667,  28.96666667]),\n",
              " <BarContainer object of 10 artists>)"
            ]
          },
          "metadata": {
            "tags": []
          },
          "execution_count": 23
        },
        {
          "output_type": "display_data",
          "data": {
            "image/png": "[encoded data removed]",
            "text/plain": [
              "<Figure size 432x288 with 1 Axes>"
            ]
          },
          "metadata": {
            "tags": [],
            "needs_background": "light"
          }
        }
      ]
    },
    {
      "cell_type": "code",
      "metadata": {
        "id": "23c470e2"
      },
      "source": [
        ""
      ],
      "id": "23c470e2",
      "execution_count": null,
      "outputs": []
    }
  ]
}