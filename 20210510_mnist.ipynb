{
 "cells": [
  {
   "cell_type": "code",
   "execution_count": 1,
   "metadata": {},
   "outputs": [
    {
     "name": "stdout",
     "output_type": "stream",
     "text": [
      "Requirement already satisfied: keras in c:\\users\\will_\\anaconda3\\lib\\site-packages (2.4.3)\n",
      "Requirement already satisfied: numpy>=1.9.1 in c:\\users\\will_\\anaconda3\\lib\\site-packages (from keras) (1.19.2)\n",
      "Requirement already satisfied: h5py in c:\\users\\will_\\anaconda3\\lib\\site-packages (from keras) (3.1.0)\n",
      "Requirement already satisfied: scipy>=0.14 in c:\\users\\will_\\anaconda3\\lib\\site-packages (from keras) (1.5.2)\n",
      "Requirement already satisfied: pyyaml in c:\\users\\will_\\anaconda3\\lib\\site-packages (from keras) (5.3.1)\n"
     ]
    }
   ],
   "source": [
    "!pip install keras "
   ]
  },
  {
   "cell_type": "code",
   "execution_count": 2,
   "metadata": {},
   "outputs": [
    {
     "name": "stdout",
     "output_type": "stream",
     "text": [
      "Requirement already satisfied: tensorflow in c:\\users\\will_\\anaconda3\\lib\\site-packages (2.5.0)\n",
      "Requirement already satisfied: six~=1.15.0 in c:\\users\\will_\\anaconda3\\lib\\site-packages (from tensorflow) (1.15.0)\n",
      "Requirement already satisfied: typing-extensions~=3.7.4 in c:\\users\\will_\\anaconda3\\lib\\site-packages (from tensorflow) (3.7.4.3)\n",
      "Requirement already satisfied: wheel~=0.35 in c:\\users\\will_\\anaconda3\\lib\\site-packages (from tensorflow) (0.35.1)\n",
      "Requirement already satisfied: grpcio~=1.34.0 in c:\\users\\will_\\anaconda3\\lib\\site-packages (from tensorflow) (1.34.1)\n",
      "Requirement already satisfied: flatbuffers~=1.12.0 in c:\\users\\will_\\anaconda3\\lib\\site-packages (from tensorflow) (1.12)\n",
      "Requirement already satisfied: protobuf>=3.9.2 in c:\\users\\will_\\anaconda3\\lib\\site-packages (from tensorflow) (3.17.2)\n",
      "Requirement already satisfied: numpy~=1.19.2 in c:\\users\\will_\\anaconda3\\lib\\site-packages (from tensorflow) (1.19.2)\n",
      "Requirement already satisfied: tensorboard~=2.5 in c:\\users\\will_\\anaconda3\\lib\\site-packages (from tensorflow) (2.5.0)\n",
      "Requirement already satisfied: h5py~=3.1.0 in c:\\users\\will_\\anaconda3\\lib\\site-packages (from tensorflow) (3.1.0)\n",
      "Requirement already satisfied: wrapt~=1.12.1 in c:\\users\\will_\\anaconda3\\lib\\site-packages (from tensorflow) (1.12.1)\n",
      "Requirement already satisfied: gast==0.4.0 in c:\\users\\will_\\anaconda3\\lib\\site-packages (from tensorflow) (0.4.0)\n",
      "Requirement already satisfied: termcolor~=1.1.0 in c:\\users\\will_\\anaconda3\\lib\\site-packages (from tensorflow) (1.1.0)\n",
      "Requirement already satisfied: absl-py~=0.10 in c:\\users\\will_\\anaconda3\\lib\\site-packages (from tensorflow) (0.12.0)\n",
      "Requirement already satisfied: google-pasta~=0.2 in c:\\users\\will_\\anaconda3\\lib\\site-packages (from tensorflow) (0.2.0)\n",
      "Requirement already satisfied: keras-preprocessing~=1.1.2 in c:\\users\\will_\\anaconda3\\lib\\site-packages (from tensorflow) (1.1.2)\n",
      "Requirement already satisfied: astunparse~=1.6.3 in c:\\users\\will_\\anaconda3\\lib\\site-packages (from tensorflow) (1.6.3)\n",
      "Requirement already satisfied: opt-einsum~=3.3.0 in c:\\users\\will_\\anaconda3\\lib\\site-packages (from tensorflow) (3.3.0)\n",
      "Requirement already satisfied: keras-nightly~=2.5.0.dev in c:\\users\\will_\\anaconda3\\lib\\site-packages (from tensorflow) (2.5.0.dev2021032900)\n",
      "Requirement already satisfied: tensorflow-estimator<2.6.0,>=2.5.0rc0 in c:\\users\\will_\\anaconda3\\lib\\site-packages (from tensorflow) (2.5.0)\n",
      "Requirement already satisfied: tensorboard-data-server<0.7.0,>=0.6.0 in c:\\users\\will_\\anaconda3\\lib\\site-packages (from tensorboard~=2.5->tensorflow) (0.6.1)\n",
      "Requirement already satisfied: requests<3,>=2.21.0 in c:\\users\\will_\\anaconda3\\lib\\site-packages (from tensorboard~=2.5->tensorflow) (2.24.0)\n",
      "Requirement already satisfied: tensorboard-plugin-wit>=1.6.0 in c:\\users\\will_\\anaconda3\\lib\\site-packages (from tensorboard~=2.5->tensorflow) (1.8.0)\n",
      "Requirement already satisfied: google-auth-oauthlib<0.5,>=0.4.1 in c:\\users\\will_\\anaconda3\\lib\\site-packages (from tensorboard~=2.5->tensorflow) (0.4.4)\n",
      "Requirement already satisfied: google-auth<2,>=1.6.3 in c:\\users\\will_\\anaconda3\\lib\\site-packages (from tensorboard~=2.5->tensorflow) (1.30.1)\n",
      "Requirement already satisfied: werkzeug>=0.11.15 in c:\\users\\will_\\anaconda3\\lib\\site-packages (from tensorboard~=2.5->tensorflow) (1.0.1)\n",
      "Requirement already satisfied: setuptools>=41.0.0 in c:\\users\\will_\\anaconda3\\lib\\site-packages (from tensorboard~=2.5->tensorflow) (50.3.1.post20201107)\n",
      "Requirement already satisfied: markdown>=2.6.8 in c:\\users\\will_\\anaconda3\\lib\\site-packages (from tensorboard~=2.5->tensorflow) (3.3.4)\n",
      "Requirement already satisfied: urllib3!=1.25.0,!=1.25.1,<1.26,>=1.21.1 in c:\\users\\will_\\anaconda3\\lib\\site-packages (from requests<3,>=2.21.0->tensorboard~=2.5->tensorflow) (1.25.11)\n",
      "Requirement already satisfied: certifi>=2017.4.17 in c:\\users\\will_\\anaconda3\\lib\\site-packages (from requests<3,>=2.21.0->tensorboard~=2.5->tensorflow) (2020.6.20)\n",
      "Requirement already satisfied: chardet<4,>=3.0.2 in c:\\users\\will_\\anaconda3\\lib\\site-packages (from requests<3,>=2.21.0->tensorboard~=2.5->tensorflow) (3.0.4)\n",
      "Requirement already satisfied: idna<3,>=2.5 in c:\\users\\will_\\anaconda3\\lib\\site-packages (from requests<3,>=2.21.0->tensorboard~=2.5->tensorflow) (2.10)\n",
      "Requirement already satisfied: requests-oauthlib>=0.7.0 in c:\\users\\will_\\anaconda3\\lib\\site-packages (from google-auth-oauthlib<0.5,>=0.4.1->tensorboard~=2.5->tensorflow) (1.3.0)\n",
      "Requirement already satisfied: cachetools<5.0,>=2.0.0 in c:\\users\\will_\\anaconda3\\lib\\site-packages (from google-auth<2,>=1.6.3->tensorboard~=2.5->tensorflow) (4.2.2)\n",
      "Requirement already satisfied: pyasn1-modules>=0.2.1 in c:\\users\\will_\\anaconda3\\lib\\site-packages (from google-auth<2,>=1.6.3->tensorboard~=2.5->tensorflow) (0.2.8)\n",
      "Requirement already satisfied: rsa<5,>=3.1.4; python_version >= \"3.6\" in c:\\users\\will_\\anaconda3\\lib\\site-packages (from google-auth<2,>=1.6.3->tensorboard~=2.5->tensorflow) (4.7.2)\n",
      "Requirement already satisfied: oauthlib>=3.0.0 in c:\\users\\will_\\anaconda3\\lib\\site-packages (from requests-oauthlib>=0.7.0->google-auth-oauthlib<0.5,>=0.4.1->tensorboard~=2.5->tensorflow) (3.1.1)\n",
      "Requirement already satisfied: pyasn1<0.5.0,>=0.4.6 in c:\\users\\will_\\anaconda3\\lib\\site-packages (from pyasn1-modules>=0.2.1->google-auth<2,>=1.6.3->tensorboard~=2.5->tensorflow) (0.4.8)\n"
     ]
    }
   ],
   "source": [
    "!pip install tensorflow "
   ]
  },
  {
   "cell_type": "code",
   "execution_count": 3,
   "metadata": {},
   "outputs": [],
   "source": [
    "import numpy as np\n",
    "import matplotlib.pyplot as plt\n",
    "\n",
    "from keras.datasets import mnist\n",
    "from tensorflow.keras.utils import to_categorical\n",
    "from sklearn.neural_network import MLPClassifier"
   ]
  },
  {
   "cell_type": "code",
   "execution_count": 4,
   "metadata": {},
   "outputs": [],
   "source": [
    "(X_train, y_train), (X_test, y_test) = mnist.load_data()"
   ]
  },
  {
   "cell_type": "code",
   "execution_count": 5,
   "metadata": {},
   "outputs": [
    {
     "data": {
      "text/plain": [
       "(numpy.ndarray, numpy.ndarray, numpy.ndarray, numpy.ndarray)"
      ]
     },
     "execution_count": 5,
     "metadata": {},
     "output_type": "execute_result"
    }
   ],
   "source": [
    "type(X_train), type(y_train), type(X_test), type(y_test)"
   ]
  },
  {
   "cell_type": "code",
   "execution_count": 6,
   "metadata": {},
   "outputs": [
    {
     "data": {
      "text/plain": [
       "((60000, 28, 28), (60000,), (10000, 28, 28), (10000,))"
      ]
     },
     "execution_count": 6,
     "metadata": {},
     "output_type": "execute_result"
    }
   ],
   "source": [
    "X_train.shape, y_train.shape, X_test.shape, y_test.shape"
   ]
  },
  {
   "cell_type": "code",
   "execution_count": 7,
   "metadata": {},
   "outputs": [
    {
     "data": {
      "text/plain": [
       "(dtype('uint8'), dtype('uint8'))"
      ]
     },
     "execution_count": 7,
     "metadata": {},
     "output_type": "execute_result"
    }
   ],
   "source": [
    "X_train.dtype, y_train.dtype"
   ]
  },
  {
   "cell_type": "code",
   "execution_count": 8,
   "metadata": {},
   "outputs": [
    {
     "data": {
      "text/plain": [
       "0"
      ]
     },
     "execution_count": 8,
     "metadata": {},
     "output_type": "execute_result"
    }
   ],
   "source": [
    "y_train[1]"
   ]
  },
  {
   "cell_type": "code",
   "execution_count": 9,
   "metadata": {},
   "outputs": [
    {
     "data": {
      "text/plain": [
       "<matplotlib.image.AxesImage at 0x2bad0a754f0>"
      ]
     },
     "execution_count": 9,
     "metadata": {},
     "output_type": "execute_result"
    },
    {
     "data": {
      "image/png": "[encoded data removed]",
      "text/plain": [
       "<Figure size 432x288 with 1 Axes>"
      ]
     },
     "metadata": {
      "needs_background": "light"
     },
     "output_type": "display_data"
    }
   ],
   "source": [
    "plt.imshow(X_train[1, :, :], cmap='gray')"
   ]
  },
  {
   "cell_type": "code",
   "execution_count": 11,
   "metadata": {},
   "outputs": [],
   "source": [
    "X_train = X_train.reshape(60000, 784)\n",
    "X_test  = X_test.reshape(10000, 784)"
   ]
  },
  {
   "cell_type": "code",
   "execution_count": 12,
   "metadata": {},
   "outputs": [],
   "source": [
    "X_train = X_train / 255\n",
    "X_test  = X_test / 255"
   ]
  },
  {
   "cell_type": "code",
   "execution_count": 13,
   "metadata": {},
   "outputs": [
    {
     "data": {
      "text/plain": [
       "((60000, 784), (10000, 784))"
      ]
     },
     "execution_count": 13,
     "metadata": {},
     "output_type": "execute_result"
    }
   ],
   "source": [
    "X_train.shape, X_test.shape"
   ]
  },
  {
   "cell_type": "code",
   "execution_count": 14,
   "metadata": {},
   "outputs": [
    {
     "data": {
      "text/plain": [
       "(0.0, 1.0)"
      ]
     },
     "execution_count": 14,
     "metadata": {},
     "output_type": "execute_result"
    }
   ],
   "source": [
    "X_train.min(), X_train.max()"
   ]
  },
  {
   "cell_type": "code",
   "execution_count": 15,
   "metadata": {},
   "outputs": [],
   "source": [
    "y_train = to_categorical(y_train, 10)\n",
    "y_test  = to_categorical(y_test, 10)"
   ]
  },
  {
   "cell_type": "code",
   "execution_count": 16,
   "metadata": {},
   "outputs": [
    {
     "data": {
      "text/plain": [
       "((60000, 10), (10000, 10))"
      ]
     },
     "execution_count": 16,
     "metadata": {},
     "output_type": "execute_result"
    }
   ],
   "source": [
    "y_train.shape, y_test.shape"
   ]
  },
  {
   "cell_type": "code",
   "execution_count": 24,
   "metadata": {},
   "outputs": [],
   "source": [
    "model = MLPClassifier(\n",
    "    hidden_layer_sizes=(),\n",
    "    alpha=0.3,\n",
    "    verbose=True,\n",
    "    random_state=42\n",
    ")"
   ]
  },
  {
   "cell_type": "code",
   "execution_count": 25,
   "metadata": {},
   "outputs": [
    {
     "name": "stdout",
     "output_type": "stream",
     "text": [
      "Iteration 1, loss = 2.17868624\n",
      "Iteration 2, loss = 1.20764202\n",
      "Iteration 3, loss = 1.04012126\n",
      "Iteration 4, loss = 0.97245427\n",
      "Iteration 5, loss = 0.93771958\n",
      "Iteration 6, loss = 0.91680962\n",
      "Iteration 7, loss = 0.90297993\n",
      "Iteration 8, loss = 0.89267518\n",
      "Iteration 9, loss = 0.88465874\n",
      "Iteration 10, loss = 0.87792134\n",
      "Iteration 11, loss = 0.87219171\n",
      "Iteration 12, loss = 0.86701583\n",
      "Iteration 13, loss = 0.86236987\n",
      "Iteration 14, loss = 0.85801238\n",
      "Iteration 15, loss = 0.85400209\n",
      "Iteration 16, loss = 0.85058467\n",
      "Iteration 17, loss = 0.84733627\n",
      "Iteration 18, loss = 0.84409006\n",
      "Iteration 19, loss = 0.84112693\n",
      "Iteration 20, loss = 0.83855347\n",
      "Iteration 21, loss = 0.83622968\n",
      "Iteration 22, loss = 0.83355537\n",
      "Iteration 23, loss = 0.83164702\n",
      "Iteration 24, loss = 0.82970002\n",
      "Iteration 25, loss = 0.82792397\n",
      "Iteration 26, loss = 0.82619057\n",
      "Iteration 27, loss = 0.82487083\n",
      "Iteration 28, loss = 0.82315702\n",
      "Iteration 29, loss = 0.82233927\n",
      "Iteration 30, loss = 0.82052960\n",
      "Iteration 31, loss = 0.81999797\n",
      "Iteration 32, loss = 0.81910495\n",
      "Iteration 33, loss = 0.81792615\n",
      "Iteration 34, loss = 0.81677869\n",
      "Iteration 35, loss = 0.81616543\n",
      "Iteration 36, loss = 0.81560247\n",
      "Iteration 37, loss = 0.81529048\n",
      "Iteration 38, loss = 0.81422787\n",
      "Iteration 39, loss = 0.81378111\n",
      "Iteration 40, loss = 0.81341024\n",
      "Iteration 41, loss = 0.81299056\n",
      "Iteration 42, loss = 0.81229698\n",
      "Iteration 43, loss = 0.81227476\n",
      "Iteration 44, loss = 0.81141439\n",
      "Iteration 45, loss = 0.81113944\n",
      "Iteration 46, loss = 0.81050194\n",
      "Iteration 47, loss = 0.81032967\n",
      "Iteration 48, loss = 0.81053554\n",
      "Iteration 49, loss = 0.81013649\n",
      "Iteration 50, loss = 0.80977370\n",
      "Iteration 51, loss = 0.80973487\n",
      "Iteration 52, loss = 0.80937430\n",
      "Iteration 53, loss = 0.80898767\n",
      "Iteration 54, loss = 0.80915552\n",
      "Iteration 55, loss = 0.80902815\n",
      "Iteration 56, loss = 0.80892302\n",
      "Iteration 57, loss = 0.80878103\n",
      "Iteration 58, loss = 0.80844418\n",
      "Iteration 59, loss = 0.80833378\n",
      "Iteration 60, loss = 0.80825685\n",
      "Iteration 61, loss = 0.80819752\n",
      "Iteration 62, loss = 0.80804153\n",
      "Iteration 63, loss = 0.80801218\n",
      "Iteration 64, loss = 0.80780043\n",
      "Iteration 65, loss = 0.80775479\n",
      "Iteration 66, loss = 0.80778887\n",
      "Iteration 67, loss = 0.80774542\n",
      "Iteration 68, loss = 0.80775839\n",
      "Iteration 69, loss = 0.80761046\n",
      "Iteration 70, loss = 0.80784630\n",
      "Iteration 71, loss = 0.80780001\n",
      "Iteration 72, loss = 0.80737163\n",
      "Iteration 73, loss = 0.80721027\n",
      "Iteration 74, loss = 0.80711730\n",
      "Iteration 75, loss = 0.80764672\n",
      "Iteration 76, loss = 0.80737759\n",
      "Iteration 77, loss = 0.80728886\n",
      "Iteration 78, loss = 0.80728464\n",
      "Iteration 79, loss = 0.80744071\n",
      "Iteration 80, loss = 0.80724045\n",
      "Iteration 81, loss = 0.80732325\n",
      "Iteration 82, loss = 0.80700277\n",
      "Iteration 83, loss = 0.80722844\n",
      "Iteration 84, loss = 0.80733798\n",
      "Iteration 85, loss = 0.80722980\n",
      "Iteration 86, loss = 0.80710831\n",
      "Iteration 87, loss = 0.80700965\n",
      "Iteration 88, loss = 0.80714780\n",
      "Iteration 89, loss = 0.80752245\n",
      "Iteration 90, loss = 0.80682432\n",
      "Iteration 91, loss = 0.80706402\n",
      "Iteration 92, loss = 0.80712429\n",
      "Iteration 93, loss = 0.80703319\n",
      "Iteration 94, loss = 0.80704657\n",
      "Iteration 95, loss = 0.80723201\n",
      "Iteration 96, loss = 0.80689678\n",
      "Iteration 97, loss = 0.80711963\n",
      "Iteration 98, loss = 0.80689237\n",
      "Iteration 99, loss = 0.80721764\n",
      "Iteration 100, loss = 0.80721404\n",
      "Iteration 101, loss = 0.80690969\n",
      "Training loss did not improve more than tol=0.000100 for 10 consecutive epochs. Stopping.\n"
     ]
    },
    {
     "data": {
      "text/plain": [
       "MLPClassifier(alpha=0.3, hidden_layer_sizes=(), random_state=42, verbose=True)"
      ]
     },
     "execution_count": 25,
     "metadata": {},
     "output_type": "execute_result"
    }
   ],
   "source": [
    "model.fit(X_train, y_train)"
   ]
  },
  {
   "cell_type": "code",
   "execution_count": 26,
   "metadata": {},
   "outputs": [
    {
     "data": {
      "text/plain": [
       "0.8201"
      ]
     },
     "execution_count": 26,
     "metadata": {},
     "output_type": "execute_result"
    }
   ],
   "source": [
    "model.score(X_test, y_test)"
   ]
  },
  {
   "cell_type": "code",
   "execution_count": 27,
   "metadata": {},
   "outputs": [
    {
     "data": {
      "image/png": "[encoded data removed]",
      "text/plain": [
       "<Figure size 1440x1440 with 10 Axes>"
      ]
     },
     "metadata": {},
     "output_type": "display_data"
    }
   ],
   "source": [
    "plt.rcParams['figure.figsize'] = 20, 20\n",
    "\n",
    "fig, axes = plt.subplots(1, 10)\n",
    "vmin, vmax = model.coefs_[0].min(), model.coefs_[0].max()\n",
    "for coef, ax in zip(model.coefs_[0].T, axes.ravel()):\n",
    "    ax.matshow(coef.reshape(28, 28), cmap='gray', vmin=0.5*vmin, vmax=0.5*vmax)\n",
    "    ax.set_xticks(())\n",
    "    ax.set_yticks(())\n",
    "    \n",
    "plt.show()"
   ]
  },
  {
   "cell_type": "code",
   "execution_count": null,
   "metadata": {},
   "outputs": [],
   "source": []
  },
  {
   "cell_type": "code",
   "execution_count": null,
   "metadata": {},
   "outputs": [],
   "source": []
  },
  {
   "cell_type": "code",
   "execution_count": null,
   "metadata": {},
   "outputs": [],
   "source": []
  }
 ],
 "metadata": {
  "kernelspec": {
   "display_name": "Python 3",
   "language": "python",
   "name": "python3"
  },
  "language_info": {
   "codemirror_mode": {
    "name": "ipython",
    "version": 3
   },
   "file_extension": ".py",
   "mimetype": "text/x-python",
   "name": "python",
   "nbconvert_exporter": "python",
   "pygments_lexer": "ipython3",
   "version": "3.8.5"
  }
 },
 "nbformat": 4,
 "nbformat_minor": 5
}
